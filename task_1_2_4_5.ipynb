{
  "cells": [
    {
      "cell_type": "code",
      "execution_count": null,
      "id": "03be088b",
      "metadata": {
        "id": "03be088b"
      },
      "outputs": [],
      "source": [
        "import re"
      ]
    },
    {
      "cell_type": "code",
      "source": [
        "import nltk\n",
        "import spacy"
      ],
      "metadata": {
        "id": "tMFH3pQ0j0rw"
      },
      "id": "tMFH3pQ0j0rw",
      "execution_count": null,
      "outputs": []
    },
    {
      "cell_type": "code",
      "source": [
        "from nltk.stem import PorterStemmer, WordNetLemmatizer,SnowballStemmer\n",
        "from nltk.tokenize import word_tokenize\n",
        "from nltk.corpus import stopwords\n",
        "stemmer=SnowballStemmer(language='english')\n",
        "lemmatize=WordNetLemmatizer()\n"
      ],
      "metadata": {
        "id": "Emhh4QmGkEKz"
      },
      "id": "Emhh4QmGkEKz",
      "execution_count": null,
      "outputs": []
    },
    {
      "cell_type": "markdown",
      "id": "6456b8d2",
      "metadata": {
        "id": "6456b8d2"
      },
      "source": [
        "## TASK-1 clearing hash,urls, mentions and emojis in social media content"
      ]
    },
    {
      "cell_type": "code",
      "source": [
        "Had an amazing time at the beach today! 🌊☀️😎 Can't wait to go back. Check out the pics at https://myvacaypics.com/beach2025 #BeachVibes #SummerFun @travelbuddy @sun_chaser 🏖️📸\n"
      ],
      "metadata": {
        "id": "cPD3lYLnn0Yf"
      },
      "id": "cPD3lYLnn0Yf",
      "execution_count": null,
      "outputs": []
    },
    {
      "cell_type": "code",
      "source": [
        "!pip install nltk\n",
        "import nltk\n",
        "nltk.download('punkt_tab')\n",
        "nltk.download('punkt')\n",
        "nltk.download('wordnet')\n",
        "nltk.download('stopwords')\n",
        "nltk.download('omw-1.4')"
      ],
      "metadata": {
        "colab": {
          "base_uri": "https://localhost:8080/"
        },
        "id": "C8TGawbHnUqI",
        "outputId": "1472d6be-8baa-44d2-f725-5ecc4c2a0368"
      },
      "id": "C8TGawbHnUqI",
      "execution_count": null,
      "outputs": [
        {
          "output_type": "stream",
          "name": "stdout",
          "text": [
            "Requirement already satisfied: nltk in /usr/local/lib/python3.11/dist-packages (3.9.1)\n",
            "Requirement already satisfied: click in /usr/local/lib/python3.11/dist-packages (from nltk) (8.1.8)\n",
            "Requirement already satisfied: joblib in /usr/local/lib/python3.11/dist-packages (from nltk) (1.4.2)\n",
            "Requirement already satisfied: regex>=2021.8.3 in /usr/local/lib/python3.11/dist-packages (from nltk) (2024.11.6)\n",
            "Requirement already satisfied: tqdm in /usr/local/lib/python3.11/dist-packages (from nltk) (4.67.1)\n"
          ]
        },
        {
          "output_type": "stream",
          "name": "stderr",
          "text": [
            "[nltk_data] Downloading package punkt_tab to /root/nltk_data...\n",
            "[nltk_data]   Unzipping tokenizers/punkt_tab.zip.\n",
            "[nltk_data] Downloading package punkt to /root/nltk_data...\n",
            "[nltk_data]   Unzipping tokenizers/punkt.zip.\n",
            "[nltk_data] Downloading package wordnet to /root/nltk_data...\n",
            "[nltk_data] Downloading package stopwords to /root/nltk_data...\n",
            "[nltk_data]   Unzipping corpora/stopwords.zip.\n",
            "[nltk_data] Downloading package omw-1.4 to /root/nltk_data...\n"
          ]
        },
        {
          "output_type": "execute_result",
          "data": {
            "text/plain": [
              "True"
            ]
          },
          "metadata": {},
          "execution_count": 4
        }
      ]
    },
    {
      "cell_type": "code",
      "source": [
        "stop_words = set(stopwords.words('english'))"
      ],
      "metadata": {
        "id": "YfEw599ItLvN"
      },
      "id": "YfEw599ItLvN",
      "execution_count": null,
      "outputs": []
    },
    {
      "cell_type": "code",
      "execution_count": null,
      "id": "bcaf2e1b",
      "metadata": {
        "id": "bcaf2e1b",
        "colab": {
          "base_uri": "https://localhost:8080/"
        },
        "outputId": "9e966836-31fa-4c12-f18c-394dbb44f502"
      },
      "outputs": [
        {
          "output_type": "stream",
          "name": "stdout",
          "text": [
            "ENTER THE TEXTHad an amazing time at the beach today! 🌊☀️😎 Can't wait to go back. Check out the pics at https://myvacaypics.com/beach2025 #BeachVibes #SummerFun @travelbuddy @sun_chaser 🏖️📸\n",
            " \n",
            "Had an amazing time at the beach today! ️ Can't wait to go back. Check out the pics at ️\n"
          ]
        }
      ],
      "source": [
        "text=input(\"ENTER THE TEXT\")\n",
        "\n",
        "def clean_social_media_text(text):\n",
        "    text=re.sub(r'(.)\\1{2,}',r'\\1',text)\n",
        "    text=re.sub(r'#\\w+', '',text)\n",
        "    text=re.sub(r'@\\w+', '',text)\n",
        "    text=re.sub(r'https\\S+|www\\S+', '',text)\n",
        "    emoji_re=re.compile('[r\\U0001F600-\\U0001F64F'\n",
        "                        '\\U0001F300-\\U0001F5FF'\n",
        "                        '\\U0001F680-\\U0001F6FF'\n",
        "                        '\\U00002500-\\U00002BEF'\n",
        "                        '\\U00002700-\\U000027BF'\n",
        "                        '\\U0001f926-\\U0001f937'\n",
        "                        '\\U00010000-\\U0010ffff]+',flags=re.UNICODE)\n",
        "    text = emoji_re.sub(r'', text)\n",
        "    text=re.sub(r'\\s+',' ', text).strip()\n",
        "    return text\n",
        "\n",
        "cleaned_text=clean_social_media_text(text)\n",
        "print(\" \")\n",
        "print(cleaned_text)"
      ]
    },
    {
      "cell_type": "markdown",
      "id": "0927f14e",
      "metadata": {
        "id": "0927f14e"
      },
      "source": [
        "## two product description comparison using sentence embeddings"
      ]
    },
    {
      "cell_type": "code",
      "execution_count": null,
      "id": "493876c9",
      "metadata": {
        "colab": {
          "base_uri": "https://localhost:8080/"
        },
        "id": "493876c9",
        "outputId": "1b4e6a75-3fa7-43ac-f6d0-e1129bac2f22"
      },
      "outputs": [
        {
          "output_type": "stream",
          "name": "stdout",
          "text": [
            "ENTER THE DESCRIPTION OF PRODUCT 1: Supercharged by M3 — The blazing-fast MacBook Air with the M3 chip is a super-portable laptop that sails through work and play. PORTABLE DESIGN — Lightweight and just over 1 cm thin, so you can take MacBook Air anywhere you go. UP TO 18 HOURS OF BATTERY LIFE — Amazing, all-day battery life so you can leave the power adapter at home. LOOK SHARP, SOUND GREAT — Everything looks and sounds amazing with a 1080p FaceTime HD camera, three mics and four speakers with Spatial Audio. APPS FLY WITH APPLE SILICON — All your favourites, from Microsoft 365 to Adobe Creative Cloud, run lightning fast in macOS.\n",
            "Enter the description of product 2: Supercharged by M3 — The blazing-fast MacBook Air with the M3 chip is a super-portable laptop that sails through work and play. PORTABLE DESIGN — Lightweight and just over 1 cm thin, so you can take MacBook Air anywhere you go. UP TO 18 HOURS OF BATTERY LIFE — Amazing, all-day battery life so you can leave the power adapter at home. LOOK SHARP, SOUND GREAT — Everything looks and sounds amazing with a 1080p FaceTime HD camera, three mics and four speakers with Spatial Audio. APPS FLY WITH APPLE SILICON — All your favourites, from Microsoft 365 to Adobe Creative Cloud, run lightning fast in macOS.\n",
            "similarity :  tensor([[1.0000]])\n"
          ]
        }
      ],
      "source": [
        "from sentence_transformers import SentenceTransformer, util\n",
        "\n",
        "load_model=SentenceTransformer(\"all-MiniLM-L6-v2\")\n",
        "\n",
        "product1=input(\"ENTER THE DESCRIPTION OF PRODUCT 1: \")\n",
        "product2=input(\"Enter the description of product 2: \")\n",
        "\n",
        "a=load_model.encode(product1,convert_to_tensor=True)\n",
        "b=load_model.encode(product2,convert_to_tensor=True)\n",
        "\n",
        "similarity=util.pytorch_cos_sim(a,b)\n",
        "print(\"similarity : \",similarity)"
      ]
    },
    {
      "cell_type": "markdown",
      "source": [
        "## TASK-2 text cleaner for amazon reviews"
      ],
      "metadata": {
        "id": "LYLlMp8WewNz"
      },
      "id": "LYLlMp8WewNz"
    },
    {
      "cell_type": "code",
      "source": [
        "text=input(\"ENTER THE TEXT :\")\n",
        "def clean_social_media_text(text):\n",
        "    text=re.sub(r'(.)\\1{2,}',r'\\1',text)\n",
        "    text=re.sub(r'#\\w+', '',text)\n",
        "    text=re.sub(r'@\\w+', '',text)\n",
        "    text=re.sub(r'https\\S+|www\\S+', '',text)\n",
        "    emoji_re=re.compile('[r\\U0001F600-\\U0001F64F'\n",
        "                        '\\U0001F300-\\U0001F5FF'\n",
        "                        '\\U0001F680-\\U0001F6FF'\n",
        "                        '\\U00002500-\\U00002BEF'\n",
        "                        '\\U00002700-\\U000027BF'\n",
        "                        '\\U0001f926-\\U0001f937'\n",
        "                        '\\U00010000-\\U0010ffff]+',flags=re.UNICODE)\n",
        "    text = emoji_re.sub(r'', text)\n",
        "    text=re.sub(r'\\s+',' ', text).strip()\n",
        "    tokening=word_tokenize(text)\n",
        "    processed=[stemmer.stem(lemmatize.lemmatize(token))\n",
        "               for token in tokening if token.lower() not in stop_words]\n",
        "    return ' '.join(processed)\n",
        "cleaned_text=clean_social_media_text(text)\n",
        "print(\" \")\n",
        "print(cleaned_text)"
      ],
      "metadata": {
        "id": "pRH9eUGGvBw9"
      },
      "id": "pRH9eUGGvBw9",
      "execution_count": null,
      "outputs": []
    },
    {
      "cell_type": "code",
      "source": [
        "import pandas as pd"
      ],
      "metadata": {
        "id": "UDjXMwaxlpQy"
      },
      "id": "UDjXMwaxlpQy",
      "execution_count": null,
      "outputs": []
    },
    {
      "cell_type": "code",
      "source": [
        "df=pd.read_csv(\"yelp.csv\")\n",
        "df"
      ],
      "metadata": {
        "id": "1CUQp9pWLZP_",
        "colab": {
          "base_uri": "https://localhost:8080/",
          "height": 860
        },
        "outputId": "9144ab99-53a9-48ad-81e9-405dfab8285a"
      },
      "id": "1CUQp9pWLZP_",
      "execution_count": null,
      "outputs": [
        {
          "output_type": "execute_result",
          "data": {
            "text/plain": [
              "                 business_id        date               review_id  stars  \\\n",
              "0     9yKzy9PApeiPPOUJEtnvkg  2011-01-26  fWKvX83p0-ka4JS3dc6E5A      5   \n",
              "1     ZRJwVLyzEJq1VAihDhYiow  2011-07-27  IjZ33sJrzXqU-0X6U8NwyA      5   \n",
              "2     6oRAC4uyJCsJl1X0WZpVSA  2012-06-14  IESLBzqUCLdSzSqm0eCSxQ      4   \n",
              "3     _1QQZuf4zZOyFCvXc0o6Vg  2010-05-27  G-WvGaISbqqaMHlNnByodA      5   \n",
              "4     6ozycU1RpktNG2-1BroVtw  2012-01-05  1uJFq2r5QfJG_6ExMRCaGw      5   \n",
              "...                      ...         ...                     ...    ...   \n",
              "9995  VY_tvNUCCXGXQeSvJl757Q  2012-07-28  Ubyfp2RSDYW0g7Mbr8N3iA      3   \n",
              "9996  EKzMHI1tip8rC1-ZAy64yg  2012-01-18  2XyIOQKbVFb6uXQdJ0RzlQ      4   \n",
              "9997  53YGfwmbW73JhFiemNeyzQ  2010-11-16  jyznYkIbpqVmlsZxSDSypA      4   \n",
              "9998  9SKdOoDHcFoxK5ZtsgHJoA  2012-12-02  5UKq9WQE1qQbJ0DJbc-B6Q      2   \n",
              "9999  pF7uRzygyZsltbmVpjIyvw  2010-10-16  vWSmOhg2ID1MNZHaWapGbA      5   \n",
              "\n",
              "                                                   text    type  \\\n",
              "0     My wife took me here on my birthday for breakf...  review   \n",
              "1     I have no idea why some people give bad review...  review   \n",
              "2     love the gyro plate. Rice is so good and I als...  review   \n",
              "3     Rosie, Dakota, and I LOVE Chaparral Dog Park!!...  review   \n",
              "4     General Manager Scott Petello is a good egg!!!...  review   \n",
              "...                                                 ...     ...   \n",
              "9995  First visit...Had lunch here today - used my G...  review   \n",
              "9996  Should be called house of deliciousness!\\n\\nI ...  review   \n",
              "9997  I recently visited Olive and Ivy for business ...  review   \n",
              "9998  My nephew just moved to Scottsdale recently so...  review   \n",
              "9999  4-5 locations.. all 4.5 star average.. I think...  review   \n",
              "\n",
              "                     user_id  cool  useful  funny  \n",
              "0     rLtl8ZkDX5vH5nAx9C3q5Q     2       5      0  \n",
              "1     0a2KyEL0d3Yb1V6aivbIuQ     0       0      0  \n",
              "2     0hT2KtfLiobPvh6cDC8JQg     0       1      0  \n",
              "3     uZetl9T0NcROGOyFfughhg     1       2      0  \n",
              "4     vYmM4KTsC8ZfQBg-j5MWkw     0       0      0  \n",
              "...                      ...   ...     ...    ...  \n",
              "9995  _eqQoPtQ3e3UxLE4faT6ow     1       2      0  \n",
              "9996  ROru4uk5SaYc3rg8IU7SQw     0       0      0  \n",
              "9997  gGbN1aKQHMgfQZkqlsuwzg     0       0      0  \n",
              "9998  0lyVoNazXa20WzUyZPLaQQ     0       0      0  \n",
              "9999  KSBFytcdjPKZgXKQnYQdkA     0       0      0  \n",
              "\n",
              "[10000 rows x 10 columns]"
            ],
            "text/html": [
              "\n",
              "  <div id=\"df-52d17e47-548f-4b42-b937-9bb5c299d1b7\" class=\"colab-df-container\">\n",
              "    <div>\n",
              "<style scoped>\n",
              "    .dataframe tbody tr th:only-of-type {\n",
              "        vertical-align: middle;\n",
              "    }\n",
              "\n",
              "    .dataframe tbody tr th {\n",
              "        vertical-align: top;\n",
              "    }\n",
              "\n",
              "    .dataframe thead th {\n",
              "        text-align: right;\n",
              "    }\n",
              "</style>\n",
              "<table border=\"1\" class=\"dataframe\">\n",
              "  <thead>\n",
              "    <tr style=\"text-align: right;\">\n",
              "      <th></th>\n",
              "      <th>business_id</th>\n",
              "      <th>date</th>\n",
              "      <th>review_id</th>\n",
              "      <th>stars</th>\n",
              "      <th>text</th>\n",
              "      <th>type</th>\n",
              "      <th>user_id</th>\n",
              "      <th>cool</th>\n",
              "      <th>useful</th>\n",
              "      <th>funny</th>\n",
              "    </tr>\n",
              "  </thead>\n",
              "  <tbody>\n",
              "    <tr>\n",
              "      <th>0</th>\n",
              "      <td>9yKzy9PApeiPPOUJEtnvkg</td>\n",
              "      <td>2011-01-26</td>\n",
              "      <td>fWKvX83p0-ka4JS3dc6E5A</td>\n",
              "      <td>5</td>\n",
              "      <td>My wife took me here on my birthday for breakf...</td>\n",
              "      <td>review</td>\n",
              "      <td>rLtl8ZkDX5vH5nAx9C3q5Q</td>\n",
              "      <td>2</td>\n",
              "      <td>5</td>\n",
              "      <td>0</td>\n",
              "    </tr>\n",
              "    <tr>\n",
              "      <th>1</th>\n",
              "      <td>ZRJwVLyzEJq1VAihDhYiow</td>\n",
              "      <td>2011-07-27</td>\n",
              "      <td>IjZ33sJrzXqU-0X6U8NwyA</td>\n",
              "      <td>5</td>\n",
              "      <td>I have no idea why some people give bad review...</td>\n",
              "      <td>review</td>\n",
              "      <td>0a2KyEL0d3Yb1V6aivbIuQ</td>\n",
              "      <td>0</td>\n",
              "      <td>0</td>\n",
              "      <td>0</td>\n",
              "    </tr>\n",
              "    <tr>\n",
              "      <th>2</th>\n",
              "      <td>6oRAC4uyJCsJl1X0WZpVSA</td>\n",
              "      <td>2012-06-14</td>\n",
              "      <td>IESLBzqUCLdSzSqm0eCSxQ</td>\n",
              "      <td>4</td>\n",
              "      <td>love the gyro plate. Rice is so good and I als...</td>\n",
              "      <td>review</td>\n",
              "      <td>0hT2KtfLiobPvh6cDC8JQg</td>\n",
              "      <td>0</td>\n",
              "      <td>1</td>\n",
              "      <td>0</td>\n",
              "    </tr>\n",
              "    <tr>\n",
              "      <th>3</th>\n",
              "      <td>_1QQZuf4zZOyFCvXc0o6Vg</td>\n",
              "      <td>2010-05-27</td>\n",
              "      <td>G-WvGaISbqqaMHlNnByodA</td>\n",
              "      <td>5</td>\n",
              "      <td>Rosie, Dakota, and I LOVE Chaparral Dog Park!!...</td>\n",
              "      <td>review</td>\n",
              "      <td>uZetl9T0NcROGOyFfughhg</td>\n",
              "      <td>1</td>\n",
              "      <td>2</td>\n",
              "      <td>0</td>\n",
              "    </tr>\n",
              "    <tr>\n",
              "      <th>4</th>\n",
              "      <td>6ozycU1RpktNG2-1BroVtw</td>\n",
              "      <td>2012-01-05</td>\n",
              "      <td>1uJFq2r5QfJG_6ExMRCaGw</td>\n",
              "      <td>5</td>\n",
              "      <td>General Manager Scott Petello is a good egg!!!...</td>\n",
              "      <td>review</td>\n",
              "      <td>vYmM4KTsC8ZfQBg-j5MWkw</td>\n",
              "      <td>0</td>\n",
              "      <td>0</td>\n",
              "      <td>0</td>\n",
              "    </tr>\n",
              "    <tr>\n",
              "      <th>...</th>\n",
              "      <td>...</td>\n",
              "      <td>...</td>\n",
              "      <td>...</td>\n",
              "      <td>...</td>\n",
              "      <td>...</td>\n",
              "      <td>...</td>\n",
              "      <td>...</td>\n",
              "      <td>...</td>\n",
              "      <td>...</td>\n",
              "      <td>...</td>\n",
              "    </tr>\n",
              "    <tr>\n",
              "      <th>9995</th>\n",
              "      <td>VY_tvNUCCXGXQeSvJl757Q</td>\n",
              "      <td>2012-07-28</td>\n",
              "      <td>Ubyfp2RSDYW0g7Mbr8N3iA</td>\n",
              "      <td>3</td>\n",
              "      <td>First visit...Had lunch here today - used my G...</td>\n",
              "      <td>review</td>\n",
              "      <td>_eqQoPtQ3e3UxLE4faT6ow</td>\n",
              "      <td>1</td>\n",
              "      <td>2</td>\n",
              "      <td>0</td>\n",
              "    </tr>\n",
              "    <tr>\n",
              "      <th>9996</th>\n",
              "      <td>EKzMHI1tip8rC1-ZAy64yg</td>\n",
              "      <td>2012-01-18</td>\n",
              "      <td>2XyIOQKbVFb6uXQdJ0RzlQ</td>\n",
              "      <td>4</td>\n",
              "      <td>Should be called house of deliciousness!\\n\\nI ...</td>\n",
              "      <td>review</td>\n",
              "      <td>ROru4uk5SaYc3rg8IU7SQw</td>\n",
              "      <td>0</td>\n",
              "      <td>0</td>\n",
              "      <td>0</td>\n",
              "    </tr>\n",
              "    <tr>\n",
              "      <th>9997</th>\n",
              "      <td>53YGfwmbW73JhFiemNeyzQ</td>\n",
              "      <td>2010-11-16</td>\n",
              "      <td>jyznYkIbpqVmlsZxSDSypA</td>\n",
              "      <td>4</td>\n",
              "      <td>I recently visited Olive and Ivy for business ...</td>\n",
              "      <td>review</td>\n",
              "      <td>gGbN1aKQHMgfQZkqlsuwzg</td>\n",
              "      <td>0</td>\n",
              "      <td>0</td>\n",
              "      <td>0</td>\n",
              "    </tr>\n",
              "    <tr>\n",
              "      <th>9998</th>\n",
              "      <td>9SKdOoDHcFoxK5ZtsgHJoA</td>\n",
              "      <td>2012-12-02</td>\n",
              "      <td>5UKq9WQE1qQbJ0DJbc-B6Q</td>\n",
              "      <td>2</td>\n",
              "      <td>My nephew just moved to Scottsdale recently so...</td>\n",
              "      <td>review</td>\n",
              "      <td>0lyVoNazXa20WzUyZPLaQQ</td>\n",
              "      <td>0</td>\n",
              "      <td>0</td>\n",
              "      <td>0</td>\n",
              "    </tr>\n",
              "    <tr>\n",
              "      <th>9999</th>\n",
              "      <td>pF7uRzygyZsltbmVpjIyvw</td>\n",
              "      <td>2010-10-16</td>\n",
              "      <td>vWSmOhg2ID1MNZHaWapGbA</td>\n",
              "      <td>5</td>\n",
              "      <td>4-5 locations.. all 4.5 star average.. I think...</td>\n",
              "      <td>review</td>\n",
              "      <td>KSBFytcdjPKZgXKQnYQdkA</td>\n",
              "      <td>0</td>\n",
              "      <td>0</td>\n",
              "      <td>0</td>\n",
              "    </tr>\n",
              "  </tbody>\n",
              "</table>\n",
              "<p>10000 rows × 10 columns</p>\n",
              "</div>\n",
              "    <div class=\"colab-df-buttons\">\n",
              "\n",
              "  <div class=\"colab-df-container\">\n",
              "    <button class=\"colab-df-convert\" onclick=\"convertToInteractive('df-52d17e47-548f-4b42-b937-9bb5c299d1b7')\"\n",
              "            title=\"Convert this dataframe to an interactive table.\"\n",
              "            style=\"display:none;\">\n",
              "\n",
              "  <svg xmlns=\"http://www.w3.org/2000/svg\" height=\"24px\" viewBox=\"0 -960 960 960\">\n",
              "    <path d=\"M120-120v-720h720v720H120Zm60-500h600v-160H180v160Zm220 220h160v-160H400v160Zm0 220h160v-160H400v160ZM180-400h160v-160H180v160Zm440 0h160v-160H620v160ZM180-180h160v-160H180v160Zm440 0h160v-160H620v160Z\"/>\n",
              "  </svg>\n",
              "    </button>\n",
              "\n",
              "  <style>\n",
              "    .colab-df-container {\n",
              "      display:flex;\n",
              "      gap: 12px;\n",
              "    }\n",
              "\n",
              "    .colab-df-convert {\n",
              "      background-color: #E8F0FE;\n",
              "      border: none;\n",
              "      border-radius: 50%;\n",
              "      cursor: pointer;\n",
              "      display: none;\n",
              "      fill: #1967D2;\n",
              "      height: 32px;\n",
              "      padding: 0 0 0 0;\n",
              "      width: 32px;\n",
              "    }\n",
              "\n",
              "    .colab-df-convert:hover {\n",
              "      background-color: #E2EBFA;\n",
              "      box-shadow: 0px 1px 2px rgba(60, 64, 67, 0.3), 0px 1px 3px 1px rgba(60, 64, 67, 0.15);\n",
              "      fill: #174EA6;\n",
              "    }\n",
              "\n",
              "    .colab-df-buttons div {\n",
              "      margin-bottom: 4px;\n",
              "    }\n",
              "\n",
              "    [theme=dark] .colab-df-convert {\n",
              "      background-color: #3B4455;\n",
              "      fill: #D2E3FC;\n",
              "    }\n",
              "\n",
              "    [theme=dark] .colab-df-convert:hover {\n",
              "      background-color: #434B5C;\n",
              "      box-shadow: 0px 1px 3px 1px rgba(0, 0, 0, 0.15);\n",
              "      filter: drop-shadow(0px 1px 2px rgba(0, 0, 0, 0.3));\n",
              "      fill: #FFFFFF;\n",
              "    }\n",
              "  </style>\n",
              "\n",
              "    <script>\n",
              "      const buttonEl =\n",
              "        document.querySelector('#df-52d17e47-548f-4b42-b937-9bb5c299d1b7 button.colab-df-convert');\n",
              "      buttonEl.style.display =\n",
              "        google.colab.kernel.accessAllowed ? 'block' : 'none';\n",
              "\n",
              "      async function convertToInteractive(key) {\n",
              "        const element = document.querySelector('#df-52d17e47-548f-4b42-b937-9bb5c299d1b7');\n",
              "        const dataTable =\n",
              "          await google.colab.kernel.invokeFunction('convertToInteractive',\n",
              "                                                    [key], {});\n",
              "        if (!dataTable) return;\n",
              "\n",
              "        const docLinkHtml = 'Like what you see? Visit the ' +\n",
              "          '<a target=\"_blank\" href=https://colab.research.google.com/notebooks/data_table.ipynb>data table notebook</a>'\n",
              "          + ' to learn more about interactive tables.';\n",
              "        element.innerHTML = '';\n",
              "        dataTable['output_type'] = 'display_data';\n",
              "        await google.colab.output.renderOutput(dataTable, element);\n",
              "        const docLink = document.createElement('div');\n",
              "        docLink.innerHTML = docLinkHtml;\n",
              "        element.appendChild(docLink);\n",
              "      }\n",
              "    </script>\n",
              "  </div>\n",
              "\n",
              "\n",
              "    <div id=\"df-dfd9b7b0-4ed6-4c30-b01e-9fab77e083c8\">\n",
              "      <button class=\"colab-df-quickchart\" onclick=\"quickchart('df-dfd9b7b0-4ed6-4c30-b01e-9fab77e083c8')\"\n",
              "                title=\"Suggest charts\"\n",
              "                style=\"display:none;\">\n",
              "\n",
              "<svg xmlns=\"http://www.w3.org/2000/svg\" height=\"24px\"viewBox=\"0 0 24 24\"\n",
              "     width=\"24px\">\n",
              "    <g>\n",
              "        <path d=\"M19 3H5c-1.1 0-2 .9-2 2v14c0 1.1.9 2 2 2h14c1.1 0 2-.9 2-2V5c0-1.1-.9-2-2-2zM9 17H7v-7h2v7zm4 0h-2V7h2v10zm4 0h-2v-4h2v4z\"/>\n",
              "    </g>\n",
              "</svg>\n",
              "      </button>\n",
              "\n",
              "<style>\n",
              "  .colab-df-quickchart {\n",
              "      --bg-color: #E8F0FE;\n",
              "      --fill-color: #1967D2;\n",
              "      --hover-bg-color: #E2EBFA;\n",
              "      --hover-fill-color: #174EA6;\n",
              "      --disabled-fill-color: #AAA;\n",
              "      --disabled-bg-color: #DDD;\n",
              "  }\n",
              "\n",
              "  [theme=dark] .colab-df-quickchart {\n",
              "      --bg-color: #3B4455;\n",
              "      --fill-color: #D2E3FC;\n",
              "      --hover-bg-color: #434B5C;\n",
              "      --hover-fill-color: #FFFFFF;\n",
              "      --disabled-bg-color: #3B4455;\n",
              "      --disabled-fill-color: #666;\n",
              "  }\n",
              "\n",
              "  .colab-df-quickchart {\n",
              "    background-color: var(--bg-color);\n",
              "    border: none;\n",
              "    border-radius: 50%;\n",
              "    cursor: pointer;\n",
              "    display: none;\n",
              "    fill: var(--fill-color);\n",
              "    height: 32px;\n",
              "    padding: 0;\n",
              "    width: 32px;\n",
              "  }\n",
              "\n",
              "  .colab-df-quickchart:hover {\n",
              "    background-color: var(--hover-bg-color);\n",
              "    box-shadow: 0 1px 2px rgba(60, 64, 67, 0.3), 0 1px 3px 1px rgba(60, 64, 67, 0.15);\n",
              "    fill: var(--button-hover-fill-color);\n",
              "  }\n",
              "\n",
              "  .colab-df-quickchart-complete:disabled,\n",
              "  .colab-df-quickchart-complete:disabled:hover {\n",
              "    background-color: var(--disabled-bg-color);\n",
              "    fill: var(--disabled-fill-color);\n",
              "    box-shadow: none;\n",
              "  }\n",
              "\n",
              "  .colab-df-spinner {\n",
              "    border: 2px solid var(--fill-color);\n",
              "    border-color: transparent;\n",
              "    border-bottom-color: var(--fill-color);\n",
              "    animation:\n",
              "      spin 1s steps(1) infinite;\n",
              "  }\n",
              "\n",
              "  @keyframes spin {\n",
              "    0% {\n",
              "      border-color: transparent;\n",
              "      border-bottom-color: var(--fill-color);\n",
              "      border-left-color: var(--fill-color);\n",
              "    }\n",
              "    20% {\n",
              "      border-color: transparent;\n",
              "      border-left-color: var(--fill-color);\n",
              "      border-top-color: var(--fill-color);\n",
              "    }\n",
              "    30% {\n",
              "      border-color: transparent;\n",
              "      border-left-color: var(--fill-color);\n",
              "      border-top-color: var(--fill-color);\n",
              "      border-right-color: var(--fill-color);\n",
              "    }\n",
              "    40% {\n",
              "      border-color: transparent;\n",
              "      border-right-color: var(--fill-color);\n",
              "      border-top-color: var(--fill-color);\n",
              "    }\n",
              "    60% {\n",
              "      border-color: transparent;\n",
              "      border-right-color: var(--fill-color);\n",
              "    }\n",
              "    80% {\n",
              "      border-color: transparent;\n",
              "      border-right-color: var(--fill-color);\n",
              "      border-bottom-color: var(--fill-color);\n",
              "    }\n",
              "    90% {\n",
              "      border-color: transparent;\n",
              "      border-bottom-color: var(--fill-color);\n",
              "    }\n",
              "  }\n",
              "</style>\n",
              "\n",
              "      <script>\n",
              "        async function quickchart(key) {\n",
              "          const quickchartButtonEl =\n",
              "            document.querySelector('#' + key + ' button');\n",
              "          quickchartButtonEl.disabled = true;  // To prevent multiple clicks.\n",
              "          quickchartButtonEl.classList.add('colab-df-spinner');\n",
              "          try {\n",
              "            const charts = await google.colab.kernel.invokeFunction(\n",
              "                'suggestCharts', [key], {});\n",
              "          } catch (error) {\n",
              "            console.error('Error during call to suggestCharts:', error);\n",
              "          }\n",
              "          quickchartButtonEl.classList.remove('colab-df-spinner');\n",
              "          quickchartButtonEl.classList.add('colab-df-quickchart-complete');\n",
              "        }\n",
              "        (() => {\n",
              "          let quickchartButtonEl =\n",
              "            document.querySelector('#df-dfd9b7b0-4ed6-4c30-b01e-9fab77e083c8 button');\n",
              "          quickchartButtonEl.style.display =\n",
              "            google.colab.kernel.accessAllowed ? 'block' : 'none';\n",
              "        })();\n",
              "      </script>\n",
              "    </div>\n",
              "\n",
              "  <div id=\"id_330f10cb-1909-42e6-bf05-70674f8df0e3\">\n",
              "    <style>\n",
              "      .colab-df-generate {\n",
              "        background-color: #E8F0FE;\n",
              "        border: none;\n",
              "        border-radius: 50%;\n",
              "        cursor: pointer;\n",
              "        display: none;\n",
              "        fill: #1967D2;\n",
              "        height: 32px;\n",
              "        padding: 0 0 0 0;\n",
              "        width: 32px;\n",
              "      }\n",
              "\n",
              "      .colab-df-generate:hover {\n",
              "        background-color: #E2EBFA;\n",
              "        box-shadow: 0px 1px 2px rgba(60, 64, 67, 0.3), 0px 1px 3px 1px rgba(60, 64, 67, 0.15);\n",
              "        fill: #174EA6;\n",
              "      }\n",
              "\n",
              "      [theme=dark] .colab-df-generate {\n",
              "        background-color: #3B4455;\n",
              "        fill: #D2E3FC;\n",
              "      }\n",
              "\n",
              "      [theme=dark] .colab-df-generate:hover {\n",
              "        background-color: #434B5C;\n",
              "        box-shadow: 0px 1px 3px 1px rgba(0, 0, 0, 0.15);\n",
              "        filter: drop-shadow(0px 1px 2px rgba(0, 0, 0, 0.3));\n",
              "        fill: #FFFFFF;\n",
              "      }\n",
              "    </style>\n",
              "    <button class=\"colab-df-generate\" onclick=\"generateWithVariable('df')\"\n",
              "            title=\"Generate code using this dataframe.\"\n",
              "            style=\"display:none;\">\n",
              "\n",
              "  <svg xmlns=\"http://www.w3.org/2000/svg\" height=\"24px\"viewBox=\"0 0 24 24\"\n",
              "       width=\"24px\">\n",
              "    <path d=\"M7,19H8.4L18.45,9,17,7.55,7,17.6ZM5,21V16.75L18.45,3.32a2,2,0,0,1,2.83,0l1.4,1.43a1.91,1.91,0,0,1,.58,1.4,1.91,1.91,0,0,1-.58,1.4L9.25,21ZM18.45,9,17,7.55Zm-12,3A5.31,5.31,0,0,0,4.9,8.1,5.31,5.31,0,0,0,1,6.5,5.31,5.31,0,0,0,4.9,4.9,5.31,5.31,0,0,0,6.5,1,5.31,5.31,0,0,0,8.1,4.9,5.31,5.31,0,0,0,12,6.5,5.46,5.46,0,0,0,6.5,12Z\"/>\n",
              "  </svg>\n",
              "    </button>\n",
              "    <script>\n",
              "      (() => {\n",
              "      const buttonEl =\n",
              "        document.querySelector('#id_330f10cb-1909-42e6-bf05-70674f8df0e3 button.colab-df-generate');\n",
              "      buttonEl.style.display =\n",
              "        google.colab.kernel.accessAllowed ? 'block' : 'none';\n",
              "\n",
              "      buttonEl.onclick = () => {\n",
              "        google.colab.notebook.generateWithVariable('df');\n",
              "      }\n",
              "      })();\n",
              "    </script>\n",
              "  </div>\n",
              "\n",
              "    </div>\n",
              "  </div>\n"
            ],
            "application/vnd.google.colaboratory.intrinsic+json": {
              "type": "dataframe",
              "variable_name": "df",
              "summary": "{\n  \"name\": \"df\",\n  \"rows\": 10000,\n  \"fields\": [\n    {\n      \"column\": \"business_id\",\n      \"properties\": {\n        \"dtype\": \"category\",\n        \"num_unique_values\": 4174,\n        \"samples\": [\n          \"jQST5lkLGX9L52-A10TGTQ\",\n          \"tpIU_ZvIfCfCp36IgghlHQ\",\n          \"3g2ofV7mhEoPyfF7vFMObA\"\n        ],\n        \"semantic_type\": \"\",\n        \"description\": \"\"\n      }\n    },\n    {\n      \"column\": \"date\",\n      \"properties\": {\n        \"dtype\": \"object\",\n        \"num_unique_values\": 1995,\n        \"samples\": [\n          \"2012-09-11\",\n          \"2009-08-28\",\n          \"2009-10-19\"\n        ],\n        \"semantic_type\": \"\",\n        \"description\": \"\"\n      }\n    },\n    {\n      \"column\": \"review_id\",\n      \"properties\": {\n        \"dtype\": \"string\",\n        \"num_unique_values\": 10000,\n        \"samples\": [\n          \"hwYVJs8Ko4PMjI19QcR57g\",\n          \"0mvthYPKb2ZmKhCADiKSmQ\",\n          \"XJHknNIecha6h0wkBSZB4w\"\n        ],\n        \"semantic_type\": \"\",\n        \"description\": \"\"\n      }\n    },\n    {\n      \"column\": \"stars\",\n      \"properties\": {\n        \"dtype\": \"number\",\n        \"std\": 1,\n        \"min\": 1,\n        \"max\": 5,\n        \"num_unique_values\": 5,\n        \"samples\": [\n          4,\n          1,\n          2\n        ],\n        \"semantic_type\": \"\",\n        \"description\": \"\"\n      }\n    },\n    {\n      \"column\": \"text\",\n      \"properties\": {\n        \"dtype\": \"string\",\n        \"num_unique_values\": 9998,\n        \"samples\": [\n          \"I've been to Bookman's a few times and have mixed feelings about it. If you're going just to look around, it's fun to see all the stuff they have in there. Between the movie selection, CD's, books and trinkets, it was fun to shop around. But, as someone interested in selling to them, I would never do that again. I brought in a huge selection of books I was interested in selling and they only took 4 of the books and offered me a few measely dollars. I was shocked. I understand they need to make a profit but I wasn't even getting $1 for each book they wanted. A total rip off if you ask me and a waste of time waiting for them to look through my stuff. I'm not sure if I will be returning anytime soon.\",\n          \"These are simply the BEST sandwiches and salads. If you like your food (a) locally grown; (b) freshly made; (c) organic/all natural; and (d) yummy - and who doesn't? - this is the place for you.\\n\\nNow, admittedly they have something of a soup-nazi routine set up and if you walk in and don't know the drill, it can be confusing.  So pay attention:   \\n1.  Look at menu.\\n2.  Decide what you want.\\n3.  Wait your turn to order.\\n4.  Order (give your name).\\n5.  Wait your turn to be called to pay the other girl for the order you placed.\\n6.  Pay her.\\n7.  Wait until your food is ready.\\n8.  Leave with your food.\\n\\nNote that there is no place to sit inside - so you can either sit outside, or, (if it is 157 degrees out that day), see if you can find a place to sit over at LUX, they are very welcoming of Pane Bianco diners. \\n\\nIt's all good.\",\n          \"Every friday, my dad and I eat here. We order the same thing... pizza wraps. they are good and fillng. iced tea hits the spot. Typical strip mall pizza.\"\n        ],\n        \"semantic_type\": \"\",\n        \"description\": \"\"\n      }\n    },\n    {\n      \"column\": \"type\",\n      \"properties\": {\n        \"dtype\": \"category\",\n        \"num_unique_values\": 1,\n        \"samples\": [\n          \"review\"\n        ],\n        \"semantic_type\": \"\",\n        \"description\": \"\"\n      }\n    },\n    {\n      \"column\": \"user_id\",\n      \"properties\": {\n        \"dtype\": \"string\",\n        \"num_unique_values\": 6403,\n        \"samples\": [\n          \"NcqFZT7ngEDHSJqRgpV8pg\"\n        ],\n        \"semantic_type\": \"\",\n        \"description\": \"\"\n      }\n    },\n    {\n      \"column\": \"cool\",\n      \"properties\": {\n        \"dtype\": \"number\",\n        \"std\": 2,\n        \"min\": 0,\n        \"max\": 77,\n        \"num_unique_values\": 29,\n        \"samples\": [\n          38\n        ],\n        \"semantic_type\": \"\",\n        \"description\": \"\"\n      }\n    },\n    {\n      \"column\": \"useful\",\n      \"properties\": {\n        \"dtype\": \"number\",\n        \"std\": 2,\n        \"min\": 0,\n        \"max\": 76,\n        \"num_unique_values\": 28,\n        \"samples\": [\n          9\n        ],\n        \"semantic_type\": \"\",\n        \"description\": \"\"\n      }\n    },\n    {\n      \"column\": \"funny\",\n      \"properties\": {\n        \"dtype\": \"number\",\n        \"std\": 1,\n        \"min\": 0,\n        \"max\": 57,\n        \"num_unique_values\": 29,\n        \"samples\": [\n          24\n        ],\n        \"semantic_type\": \"\",\n        \"description\": \"\"\n      }\n    }\n  ]\n}"
            }
          },
          "metadata": {},
          "execution_count": 7
        }
      ]
    },
    {
      "cell_type": "code",
      "source": [
        "df=df.drop(['business_id','date','review_id','stars','type','user_id'], axis=1, errors='ignore')"
      ],
      "metadata": {
        "id": "P44vw0NDlyCv"
      },
      "id": "P44vw0NDlyCv",
      "execution_count": null,
      "outputs": []
    },
    {
      "cell_type": "code",
      "source": [
        "df"
      ],
      "metadata": {
        "colab": {
          "base_uri": "https://localhost:8080/",
          "height": 423
        },
        "id": "zpvDzo8smo09",
        "outputId": "17c27960-7d94-4227-c734-4c36cd6ca90c"
      },
      "id": "zpvDzo8smo09",
      "execution_count": null,
      "outputs": [
        {
          "output_type": "execute_result",
          "data": {
            "text/plain": [
              "                                                   text  cool  useful  funny\n",
              "0     My wife took me here on my birthday for breakf...     2       5      0\n",
              "1     I have no idea why some people give bad review...     0       0      0\n",
              "2     love the gyro plate. Rice is so good and I als...     0       1      0\n",
              "3     Rosie, Dakota, and I LOVE Chaparral Dog Park!!...     1       2      0\n",
              "4     General Manager Scott Petello is a good egg!!!...     0       0      0\n",
              "...                                                 ...   ...     ...    ...\n",
              "9995  First visit...Had lunch here today - used my G...     1       2      0\n",
              "9996  Should be called house of deliciousness!\\n\\nI ...     0       0      0\n",
              "9997  I recently visited Olive and Ivy for business ...     0       0      0\n",
              "9998  My nephew just moved to Scottsdale recently so...     0       0      0\n",
              "9999  4-5 locations.. all 4.5 star average.. I think...     0       0      0\n",
              "\n",
              "[10000 rows x 4 columns]"
            ],
            "text/html": [
              "\n",
              "  <div id=\"df-867f2990-49b5-4951-999c-04c1531b6282\" class=\"colab-df-container\">\n",
              "    <div>\n",
              "<style scoped>\n",
              "    .dataframe tbody tr th:only-of-type {\n",
              "        vertical-align: middle;\n",
              "    }\n",
              "\n",
              "    .dataframe tbody tr th {\n",
              "        vertical-align: top;\n",
              "    }\n",
              "\n",
              "    .dataframe thead th {\n",
              "        text-align: right;\n",
              "    }\n",
              "</style>\n",
              "<table border=\"1\" class=\"dataframe\">\n",
              "  <thead>\n",
              "    <tr style=\"text-align: right;\">\n",
              "      <th></th>\n",
              "      <th>text</th>\n",
              "      <th>cool</th>\n",
              "      <th>useful</th>\n",
              "      <th>funny</th>\n",
              "    </tr>\n",
              "  </thead>\n",
              "  <tbody>\n",
              "    <tr>\n",
              "      <th>0</th>\n",
              "      <td>My wife took me here on my birthday for breakf...</td>\n",
              "      <td>2</td>\n",
              "      <td>5</td>\n",
              "      <td>0</td>\n",
              "    </tr>\n",
              "    <tr>\n",
              "      <th>1</th>\n",
              "      <td>I have no idea why some people give bad review...</td>\n",
              "      <td>0</td>\n",
              "      <td>0</td>\n",
              "      <td>0</td>\n",
              "    </tr>\n",
              "    <tr>\n",
              "      <th>2</th>\n",
              "      <td>love the gyro plate. Rice is so good and I als...</td>\n",
              "      <td>0</td>\n",
              "      <td>1</td>\n",
              "      <td>0</td>\n",
              "    </tr>\n",
              "    <tr>\n",
              "      <th>3</th>\n",
              "      <td>Rosie, Dakota, and I LOVE Chaparral Dog Park!!...</td>\n",
              "      <td>1</td>\n",
              "      <td>2</td>\n",
              "      <td>0</td>\n",
              "    </tr>\n",
              "    <tr>\n",
              "      <th>4</th>\n",
              "      <td>General Manager Scott Petello is a good egg!!!...</td>\n",
              "      <td>0</td>\n",
              "      <td>0</td>\n",
              "      <td>0</td>\n",
              "    </tr>\n",
              "    <tr>\n",
              "      <th>...</th>\n",
              "      <td>...</td>\n",
              "      <td>...</td>\n",
              "      <td>...</td>\n",
              "      <td>...</td>\n",
              "    </tr>\n",
              "    <tr>\n",
              "      <th>9995</th>\n",
              "      <td>First visit...Had lunch here today - used my G...</td>\n",
              "      <td>1</td>\n",
              "      <td>2</td>\n",
              "      <td>0</td>\n",
              "    </tr>\n",
              "    <tr>\n",
              "      <th>9996</th>\n",
              "      <td>Should be called house of deliciousness!\\n\\nI ...</td>\n",
              "      <td>0</td>\n",
              "      <td>0</td>\n",
              "      <td>0</td>\n",
              "    </tr>\n",
              "    <tr>\n",
              "      <th>9997</th>\n",
              "      <td>I recently visited Olive and Ivy for business ...</td>\n",
              "      <td>0</td>\n",
              "      <td>0</td>\n",
              "      <td>0</td>\n",
              "    </tr>\n",
              "    <tr>\n",
              "      <th>9998</th>\n",
              "      <td>My nephew just moved to Scottsdale recently so...</td>\n",
              "      <td>0</td>\n",
              "      <td>0</td>\n",
              "      <td>0</td>\n",
              "    </tr>\n",
              "    <tr>\n",
              "      <th>9999</th>\n",
              "      <td>4-5 locations.. all 4.5 star average.. I think...</td>\n",
              "      <td>0</td>\n",
              "      <td>0</td>\n",
              "      <td>0</td>\n",
              "    </tr>\n",
              "  </tbody>\n",
              "</table>\n",
              "<p>10000 rows × 4 columns</p>\n",
              "</div>\n",
              "    <div class=\"colab-df-buttons\">\n",
              "\n",
              "  <div class=\"colab-df-container\">\n",
              "    <button class=\"colab-df-convert\" onclick=\"convertToInteractive('df-867f2990-49b5-4951-999c-04c1531b6282')\"\n",
              "            title=\"Convert this dataframe to an interactive table.\"\n",
              "            style=\"display:none;\">\n",
              "\n",
              "  <svg xmlns=\"http://www.w3.org/2000/svg\" height=\"24px\" viewBox=\"0 -960 960 960\">\n",
              "    <path d=\"M120-120v-720h720v720H120Zm60-500h600v-160H180v160Zm220 220h160v-160H400v160Zm0 220h160v-160H400v160ZM180-400h160v-160H180v160Zm440 0h160v-160H620v160ZM180-180h160v-160H180v160Zm440 0h160v-160H620v160Z\"/>\n",
              "  </svg>\n",
              "    </button>\n",
              "\n",
              "  <style>\n",
              "    .colab-df-container {\n",
              "      display:flex;\n",
              "      gap: 12px;\n",
              "    }\n",
              "\n",
              "    .colab-df-convert {\n",
              "      background-color: #E8F0FE;\n",
              "      border: none;\n",
              "      border-radius: 50%;\n",
              "      cursor: pointer;\n",
              "      display: none;\n",
              "      fill: #1967D2;\n",
              "      height: 32px;\n",
              "      padding: 0 0 0 0;\n",
              "      width: 32px;\n",
              "    }\n",
              "\n",
              "    .colab-df-convert:hover {\n",
              "      background-color: #E2EBFA;\n",
              "      box-shadow: 0px 1px 2px rgba(60, 64, 67, 0.3), 0px 1px 3px 1px rgba(60, 64, 67, 0.15);\n",
              "      fill: #174EA6;\n",
              "    }\n",
              "\n",
              "    .colab-df-buttons div {\n",
              "      margin-bottom: 4px;\n",
              "    }\n",
              "\n",
              "    [theme=dark] .colab-df-convert {\n",
              "      background-color: #3B4455;\n",
              "      fill: #D2E3FC;\n",
              "    }\n",
              "\n",
              "    [theme=dark] .colab-df-convert:hover {\n",
              "      background-color: #434B5C;\n",
              "      box-shadow: 0px 1px 3px 1px rgba(0, 0, 0, 0.15);\n",
              "      filter: drop-shadow(0px 1px 2px rgba(0, 0, 0, 0.3));\n",
              "      fill: #FFFFFF;\n",
              "    }\n",
              "  </style>\n",
              "\n",
              "    <script>\n",
              "      const buttonEl =\n",
              "        document.querySelector('#df-867f2990-49b5-4951-999c-04c1531b6282 button.colab-df-convert');\n",
              "      buttonEl.style.display =\n",
              "        google.colab.kernel.accessAllowed ? 'block' : 'none';\n",
              "\n",
              "      async function convertToInteractive(key) {\n",
              "        const element = document.querySelector('#df-867f2990-49b5-4951-999c-04c1531b6282');\n",
              "        const dataTable =\n",
              "          await google.colab.kernel.invokeFunction('convertToInteractive',\n",
              "                                                    [key], {});\n",
              "        if (!dataTable) return;\n",
              "\n",
              "        const docLinkHtml = 'Like what you see? Visit the ' +\n",
              "          '<a target=\"_blank\" href=https://colab.research.google.com/notebooks/data_table.ipynb>data table notebook</a>'\n",
              "          + ' to learn more about interactive tables.';\n",
              "        element.innerHTML = '';\n",
              "        dataTable['output_type'] = 'display_data';\n",
              "        await google.colab.output.renderOutput(dataTable, element);\n",
              "        const docLink = document.createElement('div');\n",
              "        docLink.innerHTML = docLinkHtml;\n",
              "        element.appendChild(docLink);\n",
              "      }\n",
              "    </script>\n",
              "  </div>\n",
              "\n",
              "\n",
              "    <div id=\"df-46a4747d-acf4-4430-a94f-047e5f497b94\">\n",
              "      <button class=\"colab-df-quickchart\" onclick=\"quickchart('df-46a4747d-acf4-4430-a94f-047e5f497b94')\"\n",
              "                title=\"Suggest charts\"\n",
              "                style=\"display:none;\">\n",
              "\n",
              "<svg xmlns=\"http://www.w3.org/2000/svg\" height=\"24px\"viewBox=\"0 0 24 24\"\n",
              "     width=\"24px\">\n",
              "    <g>\n",
              "        <path d=\"M19 3H5c-1.1 0-2 .9-2 2v14c0 1.1.9 2 2 2h14c1.1 0 2-.9 2-2V5c0-1.1-.9-2-2-2zM9 17H7v-7h2v7zm4 0h-2V7h2v10zm4 0h-2v-4h2v4z\"/>\n",
              "    </g>\n",
              "</svg>\n",
              "      </button>\n",
              "\n",
              "<style>\n",
              "  .colab-df-quickchart {\n",
              "      --bg-color: #E8F0FE;\n",
              "      --fill-color: #1967D2;\n",
              "      --hover-bg-color: #E2EBFA;\n",
              "      --hover-fill-color: #174EA6;\n",
              "      --disabled-fill-color: #AAA;\n",
              "      --disabled-bg-color: #DDD;\n",
              "  }\n",
              "\n",
              "  [theme=dark] .colab-df-quickchart {\n",
              "      --bg-color: #3B4455;\n",
              "      --fill-color: #D2E3FC;\n",
              "      --hover-bg-color: #434B5C;\n",
              "      --hover-fill-color: #FFFFFF;\n",
              "      --disabled-bg-color: #3B4455;\n",
              "      --disabled-fill-color: #666;\n",
              "  }\n",
              "\n",
              "  .colab-df-quickchart {\n",
              "    background-color: var(--bg-color);\n",
              "    border: none;\n",
              "    border-radius: 50%;\n",
              "    cursor: pointer;\n",
              "    display: none;\n",
              "    fill: var(--fill-color);\n",
              "    height: 32px;\n",
              "    padding: 0;\n",
              "    width: 32px;\n",
              "  }\n",
              "\n",
              "  .colab-df-quickchart:hover {\n",
              "    background-color: var(--hover-bg-color);\n",
              "    box-shadow: 0 1px 2px rgba(60, 64, 67, 0.3), 0 1px 3px 1px rgba(60, 64, 67, 0.15);\n",
              "    fill: var(--button-hover-fill-color);\n",
              "  }\n",
              "\n",
              "  .colab-df-quickchart-complete:disabled,\n",
              "  .colab-df-quickchart-complete:disabled:hover {\n",
              "    background-color: var(--disabled-bg-color);\n",
              "    fill: var(--disabled-fill-color);\n",
              "    box-shadow: none;\n",
              "  }\n",
              "\n",
              "  .colab-df-spinner {\n",
              "    border: 2px solid var(--fill-color);\n",
              "    border-color: transparent;\n",
              "    border-bottom-color: var(--fill-color);\n",
              "    animation:\n",
              "      spin 1s steps(1) infinite;\n",
              "  }\n",
              "\n",
              "  @keyframes spin {\n",
              "    0% {\n",
              "      border-color: transparent;\n",
              "      border-bottom-color: var(--fill-color);\n",
              "      border-left-color: var(--fill-color);\n",
              "    }\n",
              "    20% {\n",
              "      border-color: transparent;\n",
              "      border-left-color: var(--fill-color);\n",
              "      border-top-color: var(--fill-color);\n",
              "    }\n",
              "    30% {\n",
              "      border-color: transparent;\n",
              "      border-left-color: var(--fill-color);\n",
              "      border-top-color: var(--fill-color);\n",
              "      border-right-color: var(--fill-color);\n",
              "    }\n",
              "    40% {\n",
              "      border-color: transparent;\n",
              "      border-right-color: var(--fill-color);\n",
              "      border-top-color: var(--fill-color);\n",
              "    }\n",
              "    60% {\n",
              "      border-color: transparent;\n",
              "      border-right-color: var(--fill-color);\n",
              "    }\n",
              "    80% {\n",
              "      border-color: transparent;\n",
              "      border-right-color: var(--fill-color);\n",
              "      border-bottom-color: var(--fill-color);\n",
              "    }\n",
              "    90% {\n",
              "      border-color: transparent;\n",
              "      border-bottom-color: var(--fill-color);\n",
              "    }\n",
              "  }\n",
              "</style>\n",
              "\n",
              "      <script>\n",
              "        async function quickchart(key) {\n",
              "          const quickchartButtonEl =\n",
              "            document.querySelector('#' + key + ' button');\n",
              "          quickchartButtonEl.disabled = true;  // To prevent multiple clicks.\n",
              "          quickchartButtonEl.classList.add('colab-df-spinner');\n",
              "          try {\n",
              "            const charts = await google.colab.kernel.invokeFunction(\n",
              "                'suggestCharts', [key], {});\n",
              "          } catch (error) {\n",
              "            console.error('Error during call to suggestCharts:', error);\n",
              "          }\n",
              "          quickchartButtonEl.classList.remove('colab-df-spinner');\n",
              "          quickchartButtonEl.classList.add('colab-df-quickchart-complete');\n",
              "        }\n",
              "        (() => {\n",
              "          let quickchartButtonEl =\n",
              "            document.querySelector('#df-46a4747d-acf4-4430-a94f-047e5f497b94 button');\n",
              "          quickchartButtonEl.style.display =\n",
              "            google.colab.kernel.accessAllowed ? 'block' : 'none';\n",
              "        })();\n",
              "      </script>\n",
              "    </div>\n",
              "\n",
              "  <div id=\"id_d37508ce-bfac-4a3d-89ce-12617a1be6cb\">\n",
              "    <style>\n",
              "      .colab-df-generate {\n",
              "        background-color: #E8F0FE;\n",
              "        border: none;\n",
              "        border-radius: 50%;\n",
              "        cursor: pointer;\n",
              "        display: none;\n",
              "        fill: #1967D2;\n",
              "        height: 32px;\n",
              "        padding: 0 0 0 0;\n",
              "        width: 32px;\n",
              "      }\n",
              "\n",
              "      .colab-df-generate:hover {\n",
              "        background-color: #E2EBFA;\n",
              "        box-shadow: 0px 1px 2px rgba(60, 64, 67, 0.3), 0px 1px 3px 1px rgba(60, 64, 67, 0.15);\n",
              "        fill: #174EA6;\n",
              "      }\n",
              "\n",
              "      [theme=dark] .colab-df-generate {\n",
              "        background-color: #3B4455;\n",
              "        fill: #D2E3FC;\n",
              "      }\n",
              "\n",
              "      [theme=dark] .colab-df-generate:hover {\n",
              "        background-color: #434B5C;\n",
              "        box-shadow: 0px 1px 3px 1px rgba(0, 0, 0, 0.15);\n",
              "        filter: drop-shadow(0px 1px 2px rgba(0, 0, 0, 0.3));\n",
              "        fill: #FFFFFF;\n",
              "      }\n",
              "    </style>\n",
              "    <button class=\"colab-df-generate\" onclick=\"generateWithVariable('df')\"\n",
              "            title=\"Generate code using this dataframe.\"\n",
              "            style=\"display:none;\">\n",
              "\n",
              "  <svg xmlns=\"http://www.w3.org/2000/svg\" height=\"24px\"viewBox=\"0 0 24 24\"\n",
              "       width=\"24px\">\n",
              "    <path d=\"M7,19H8.4L18.45,9,17,7.55,7,17.6ZM5,21V16.75L18.45,3.32a2,2,0,0,1,2.83,0l1.4,1.43a1.91,1.91,0,0,1,.58,1.4,1.91,1.91,0,0,1-.58,1.4L9.25,21ZM18.45,9,17,7.55Zm-12,3A5.31,5.31,0,0,0,4.9,8.1,5.31,5.31,0,0,0,1,6.5,5.31,5.31,0,0,0,4.9,4.9,5.31,5.31,0,0,0,6.5,1,5.31,5.31,0,0,0,8.1,4.9,5.31,5.31,0,0,0,12,6.5,5.46,5.46,0,0,0,6.5,12Z\"/>\n",
              "  </svg>\n",
              "    </button>\n",
              "    <script>\n",
              "      (() => {\n",
              "      const buttonEl =\n",
              "        document.querySelector('#id_d37508ce-bfac-4a3d-89ce-12617a1be6cb button.colab-df-generate');\n",
              "      buttonEl.style.display =\n",
              "        google.colab.kernel.accessAllowed ? 'block' : 'none';\n",
              "\n",
              "      buttonEl.onclick = () => {\n",
              "        google.colab.notebook.generateWithVariable('df');\n",
              "      }\n",
              "      })();\n",
              "    </script>\n",
              "  </div>\n",
              "\n",
              "    </div>\n",
              "  </div>\n"
            ],
            "application/vnd.google.colaboratory.intrinsic+json": {
              "type": "dataframe",
              "variable_name": "df",
              "summary": "{\n  \"name\": \"df\",\n  \"rows\": 10000,\n  \"fields\": [\n    {\n      \"column\": \"text\",\n      \"properties\": {\n        \"dtype\": \"string\",\n        \"num_unique_values\": 9998,\n        \"samples\": [\n          \"I've been to Bookman's a few times and have mixed feelings about it. If you're going just to look around, it's fun to see all the stuff they have in there. Between the movie selection, CD's, books and trinkets, it was fun to shop around. But, as someone interested in selling to them, I would never do that again. I brought in a huge selection of books I was interested in selling and they only took 4 of the books and offered me a few measely dollars. I was shocked. I understand they need to make a profit but I wasn't even getting $1 for each book they wanted. A total rip off if you ask me and a waste of time waiting for them to look through my stuff. I'm not sure if I will be returning anytime soon.\",\n          \"These are simply the BEST sandwiches and salads. If you like your food (a) locally grown; (b) freshly made; (c) organic/all natural; and (d) yummy - and who doesn't? - this is the place for you.\\n\\nNow, admittedly they have something of a soup-nazi routine set up and if you walk in and don't know the drill, it can be confusing.  So pay attention:   \\n1.  Look at menu.\\n2.  Decide what you want.\\n3.  Wait your turn to order.\\n4.  Order (give your name).\\n5.  Wait your turn to be called to pay the other girl for the order you placed.\\n6.  Pay her.\\n7.  Wait until your food is ready.\\n8.  Leave with your food.\\n\\nNote that there is no place to sit inside - so you can either sit outside, or, (if it is 157 degrees out that day), see if you can find a place to sit over at LUX, they are very welcoming of Pane Bianco diners. \\n\\nIt's all good.\",\n          \"Every friday, my dad and I eat here. We order the same thing... pizza wraps. they are good and fillng. iced tea hits the spot. Typical strip mall pizza.\"\n        ],\n        \"semantic_type\": \"\",\n        \"description\": \"\"\n      }\n    },\n    {\n      \"column\": \"cool\",\n      \"properties\": {\n        \"dtype\": \"number\",\n        \"std\": 2,\n        \"min\": 0,\n        \"max\": 77,\n        \"num_unique_values\": 29,\n        \"samples\": [\n          38,\n          17,\n          12\n        ],\n        \"semantic_type\": \"\",\n        \"description\": \"\"\n      }\n    },\n    {\n      \"column\": \"useful\",\n      \"properties\": {\n        \"dtype\": \"number\",\n        \"std\": 2,\n        \"min\": 0,\n        \"max\": 76,\n        \"num_unique_values\": 28,\n        \"samples\": [\n          9,\n          31,\n          16\n        ],\n        \"semantic_type\": \"\",\n        \"description\": \"\"\n      }\n    },\n    {\n      \"column\": \"funny\",\n      \"properties\": {\n        \"dtype\": \"number\",\n        \"std\": 1,\n        \"min\": 0,\n        \"max\": 57,\n        \"num_unique_values\": 29,\n        \"samples\": [\n          24,\n          13,\n          16\n        ],\n        \"semantic_type\": \"\",\n        \"description\": \"\"\n      }\n    }\n  ]\n}"
            }
          },
          "metadata": {},
          "execution_count": 9
        }
      ]
    },
    {
      "cell_type": "code",
      "source": [
        "x=df['text']\n",
        "y=df[['cool','useful','funny']]"
      ],
      "metadata": {
        "id": "Edgk7xSomrzj"
      },
      "id": "Edgk7xSomrzj",
      "execution_count": null,
      "outputs": []
    },
    {
      "cell_type": "code",
      "source": [
        "def clean_social_media_text(text):\n",
        "    text=re.sub(r'(.)\\1{2,}',r'\\1',text)\n",
        "    text=re.sub(r'#\\w+', '',text)\n",
        "    text=re.sub(r'@\\w+', '',text)\n",
        "    text=re.sub(r'https\\S+|www\\S+', '',text)\n",
        "    emoji_re=re.compile('[r\\U0001F600-\\U0001F64F'\n",
        "                        '\\U0001F300-\\U0001F5FF'\n",
        "                        '\\U0001F680-\\U0001F6FF'\n",
        "                        '\\U00002500-\\U00002BEF'\n",
        "                        '\\U00002700-\\U000027BF'\n",
        "                        '\\U0001f926-\\U0001f937'\n",
        "                        '\\U00010000-\\U0010ffff]+',flags=re.UNICODE)\n",
        "    text = emoji_re.sub(r'', text)\n",
        "    text=re.sub(r'\\s+',' ', text).strip()\n",
        "    tokening=word_tokenize(text)\n",
        "    processed=[lemmatize.lemmatize(token)\n",
        "               for token in tokening if token.lower() not in stop_words]\n",
        "    return ' '.join(processed)\n",
        "\n",
        "print(\" \")\n",
        "df['cleaned_text'] = df['text'].apply(clean_social_media_text)\n",
        "print(df[['text', 'cleaned_text']].head())"
      ],
      "metadata": {
        "id": "_lw5R_pPeeLn",
        "colab": {
          "base_uri": "https://localhost:8080/"
        },
        "outputId": "0af15f6e-fdaf-46fa-a1c4-8da90602cc45"
      },
      "id": "_lw5R_pPeeLn",
      "execution_count": null,
      "outputs": [
        {
          "output_type": "stream",
          "name": "stdout",
          "text": [
            " \n",
            "                                                text  \\\n",
            "0  My wife took me here on my birthday for breakf...   \n",
            "1  I have no idea why some people give bad review...   \n",
            "2  love the gyro plate. Rice is so good and I als...   \n",
            "3  Rosie, Dakota, and I LOVE Chaparral Dog Park!!...   \n",
            "4  General Manager Scott Petello is a good egg!!!...   \n",
            "\n",
            "                                        cleaned_text  \n",
            "0  wife took hee bithday fo beakfast excellent . ...  \n",
            "1  idea people give bad eviews place . go show , ...  \n",
            "2  love gyo plate . Rice good also dig thei candy...  \n",
            "3  Rosie , Dakota , LOVE Chapaal Dog Pak ! 's vey...  \n",
            "4  Geneal Manage Scott Petello good egg ! go deta...  \n"
          ]
        }
      ]
    },
    {
      "cell_type": "code",
      "source": [
        "df['text'][1]"
      ],
      "metadata": {
        "colab": {
          "base_uri": "https://localhost:8080/",
          "height": 140
        },
        "id": "6YiOr3KbubsC",
        "outputId": "3ebbd258-fc61-48c7-f7f3-0d0e42f949c5"
      },
      "id": "6YiOr3KbubsC",
      "execution_count": null,
      "outputs": [
        {
          "output_type": "execute_result",
          "data": {
            "text/plain": [
              "'I have no idea why some people give bad reviews about this place. It goes to show you, you can please everyone. They are probably griping about something that their own fault...there are many people like that.\\n\\nIn any case, my friend and I arrived at about 5:50 PM this past Sunday. It was pretty crowded, more than I thought for a Sunday evening and thought we would have to wait forever to get a seat but they said we\\'ll be seated when the girl comes back from seating someone else. We were seated at 5:52 and the waiter came and got our drink orders. Everyone was very pleasant from the host that seated us to the waiter to the server. The prices were very good as well. We placed our orders once we decided what we wanted at 6:02. We shared the baked spaghetti calzone and the small \"Here\\'s The Beef\" pizza so we can both try them. The calzone was huge and we got the smallest one (personal) and got the small 11\" pizza. Both were awesome! My friend liked the pizza better and I liked the calzone better. The calzone does have a sweetish sauce but that\\'s how I like my sauce!\\n\\nWe had to box part of the pizza to take it home and we were out the door by 6:42. So, everything was great and not like these bad reviewers. That goes to show you that  you have to try these things yourself because all these bad reviewers have some serious issues.'"
            ],
            "application/vnd.google.colaboratory.intrinsic+json": {
              "type": "string"
            }
          },
          "metadata": {},
          "execution_count": 22
        }
      ]
    },
    {
      "cell_type": "code",
      "source": [
        "df['cleaned_text'][1]"
      ],
      "metadata": {
        "colab": {
          "base_uri": "https://localhost:8080/",
          "height": 122
        },
        "id": "QokNdGUvuLTW",
        "outputId": "2162e4f6-75d4-4c76-8bfd-1a801a495fac"
      },
      "id": "QokNdGUvuLTW",
      "execution_count": null,
      "outputs": [
        {
          "output_type": "execute_result",
          "data": {
            "text/plain": [
              "\"idea people give bad eviews place . go show , please eveyone . ae pobably giping something thei fault.thee ae many people like . case , fiend aived 5:50 PM past Sunday . petty cowded , moe thought fo Sunday evening thought would wait foeve get seat said 'll seated gil come back fom seating someone else . wee seated 5:52 waite came got ou dink ode . Eveyone vey pleasant fom host seated u waite seve . pices wee vey good well . placed ou ode decided wanted 6:02 . shaed baked spaghetti calzone small `` Hee 's Beef '' pizza ty . calzone huge got smallest one ( pesonal ) got small 11 '' pizza . wee awesome ! fiend liked pizza bette liked calzone bette . calzone sweetish sauce 's like sauce ! box pat pizza take home wee doo 6:42 . , eveything geat like bad eviewes . go show ty thing youself bad eviewes seious issue .\""
            ],
            "application/vnd.google.colaboratory.intrinsic+json": {
              "type": "string"
            }
          },
          "metadata": {},
          "execution_count": 23
        }
      ]
    },
    {
      "cell_type": "markdown",
      "source": [
        "## TASK-5 ngrams and pos tagging in reviews"
      ],
      "metadata": {
        "id": "vfQfWPuGS_ZA"
      },
      "id": "vfQfWPuGS_ZA"
    },
    {
      "cell_type": "code",
      "source": [
        "from sklearn.feature_extraction.text import TfidfVectorizer"
      ],
      "metadata": {
        "id": "HWIL33vJTapQ"
      },
      "id": "HWIL33vJTapQ",
      "execution_count": null,
      "outputs": []
    },
    {
      "cell_type": "code",
      "source": [
        "vec=TfidfVectorizer(ngram_range=(2,3))\n",
        "text_features = vec.fit_transform(df['cleaned_text'])"
      ],
      "metadata": {
        "id": "B5UJceoOUp6m"
      },
      "id": "B5UJceoOUp6m",
      "execution_count": null,
      "outputs": []
    },
    {
      "cell_type": "code",
      "source": [
        "feature_names = vec.get_feature_names_out()"
      ],
      "metadata": {
        "id": "p8zjaf38aHzh"
      },
      "id": "p8zjaf38aHzh",
      "execution_count": null,
      "outputs": []
    },
    {
      "cell_type": "code",
      "source": [
        "df_features =pd.DataFrame(data=text_features.toarray(), columns=feature_names, index=df.index)"
      ],
      "metadata": {
        "id": "skkZZQGyaLVg"
      },
      "id": "skkZZQGyaLVg",
      "execution_count": null,
      "outputs": []
    },
    {
      "cell_type": "code",
      "source": [
        "import numpy as np\n",
        "\n",
        "def get_top_ngrams(tfidf_vector, feature_names, top_n=3):\n",
        "    sorted_indices = np.argsort(tfidf_vector.toarray().flatten())[::-1]\n",
        "    top_features = [(feature_names[i], tfidf_vector[0, i]) for i in sorted_indices[:top_n]]\n",
        "    return [term for term, score in top_features]\n"
      ],
      "metadata": {
        "id": "2XAF4dpsgr2H"
      },
      "id": "2XAF4dpsgr2H",
      "execution_count": null,
      "outputs": []
    },
    {
      "cell_type": "code",
      "source": [
        "df['top_ngrams'] = [get_top_ngrams(text_features[i], feature_names, top_n=3) for i in range(len(df))]"
      ],
      "metadata": {
        "id": "hGRgyJtygvUP"
      },
      "id": "hGRgyJtygvUP",
      "execution_count": null,
      "outputs": []
    },
    {
      "cell_type": "code",
      "source": [
        "df['text'][2]"
      ],
      "metadata": {
        "colab": {
          "base_uri": "https://localhost:8080/",
          "height": 36
        },
        "id": "Qn0hHfTBmaa5",
        "outputId": "d42af163-1363-4eb4-84cb-c6981ace555f"
      },
      "id": "Qn0hHfTBmaa5",
      "execution_count": null,
      "outputs": [
        {
          "output_type": "execute_result",
          "data": {
            "text/plain": [
              "'love the gyro plate. Rice is so good and I also dig their candy selection :)'"
            ],
            "application/vnd.google.colaboratory.intrinsic+json": {
              "type": "string"
            }
          },
          "metadata": {},
          "execution_count": 38
        }
      ]
    },
    {
      "cell_type": "code",
      "source": [
        "df['top_ngrams'][2]"
      ],
      "metadata": {
        "colab": {
          "base_uri": "https://localhost:8080/"
        },
        "id": "BpvRlKI-mTNu",
        "outputId": "6614961d-4c79-4960-8198-58666d427f1d"
      },
      "id": "BpvRlKI-mTNu",
      "execution_count": null,
      "outputs": [
        {
          "output_type": "execute_result",
          "data": {
            "text/plain": [
              "['gyo plate rice', 'thei candy selection', 'rice good']"
            ]
          },
          "metadata": {},
          "execution_count": 39
        }
      ]
    },
    {
      "cell_type": "code",
      "source": [
        "df['pos_tags'] = df['cleaned_text'].apply(lambda text: nltk.pos_tag(nltk.word_tokenize(text)))"
      ],
      "metadata": {
        "id": "yTNLBhC8aYh1"
      },
      "id": "yTNLBhC8aYh1",
      "execution_count": null,
      "outputs": []
    },
    {
      "cell_type": "code",
      "source": [
        "df['pos_tags'][0]"
      ],
      "metadata": {
        "colab": {
          "base_uri": "https://localhost:8080/"
        },
        "id": "nICizqjbawk0",
        "outputId": "d0592391-7160-4acc-c26e-f698eb959a11"
      },
      "id": "nICizqjbawk0",
      "execution_count": null,
      "outputs": [
        {
          "output_type": "execute_result",
          "data": {
            "text/plain": [
              "[('wife', 'NN'),\n",
              " ('took', 'VBD'),\n",
              " ('hee', 'NN'),\n",
              " ('bithday', 'NN'),\n",
              " ('fo', 'VBD'),\n",
              " ('beakfast', 'JJ'),\n",
              " ('excellent', 'NN'),\n",
              " ('.', '.'),\n",
              " ('weathe', 'NN'),\n",
              " ('pefect', 'NN'),\n",
              " ('made', 'VBD'),\n",
              " ('sitting', 'VBG'),\n",
              " ('outside', 'JJ'),\n",
              " ('ovelooking', 'VBG'),\n",
              " ('thei', 'JJ'),\n",
              " ('gounds', 'NNS'),\n",
              " ('absolute', 'JJ'),\n",
              " ('pleasue', 'NN'),\n",
              " ('.', '.'),\n",
              " ('Ou', 'NNP'),\n",
              " ('waitess', 'JJ'),\n",
              " ('excellent', 'JJ'),\n",
              " ('ou', 'NN'),\n",
              " ('food', 'NN'),\n",
              " ('aived', 'VBD'),\n",
              " ('quickly', 'RB'),\n",
              " ('semi-busy', 'JJ'),\n",
              " ('Satuday', 'NNP'),\n",
              " ('moning', 'NN'),\n",
              " ('.', '.'),\n",
              " ('looked', 'VBN'),\n",
              " ('like', 'IN'),\n",
              " ('place', 'NN'),\n",
              " ('fill', 'NN'),\n",
              " ('petty', 'JJ'),\n",
              " ('quickly', 'RB'),\n",
              " ('ealie', 'VBP'),\n",
              " ('get', 'VB'),\n",
              " ('hee', 'JJ'),\n",
              " ('bette', 'NN'),\n",
              " ('.', '.'),\n",
              " ('youself', 'PRP'),\n",
              " ('favo', 'JJ'),\n",
              " ('get', 'VB'),\n",
              " ('thei', 'JJ'),\n",
              " ('Bloody', 'NNP'),\n",
              " ('May', 'NNP'),\n",
              " ('.', '.'),\n",
              " ('phenomenal', 'NN'),\n",
              " ('simply', 'RB'),\n",
              " ('best', 'JJS'),\n",
              " (\"'ve\", 'VBP'),\n",
              " ('eve', 'VBN'),\n",
              " ('.', '.'),\n",
              " (\"'m\", 'VBP'),\n",
              " ('petty', 'JJ'),\n",
              " ('sue', 'NN'),\n",
              " ('use', 'NN'),\n",
              " ('ingedients', 'NNS'),\n",
              " ('fom', 'VBP'),\n",
              " ('thei', 'JJ'),\n",
              " ('gaden', 'JJ'),\n",
              " ('blend', 'NN'),\n",
              " ('fesh', 'JJ'),\n",
              " ('ode', 'NN'),\n",
              " ('.', '.'),\n",
              " ('amazing', 'VBG'),\n",
              " ('.', '.'),\n",
              " ('EVERYTHING', 'NN'),\n",
              " ('menu', 'NN'),\n",
              " ('look', 'NN'),\n",
              " ('excellent', 'JJ'),\n",
              " (',', ','),\n",
              " ('white', 'JJ'),\n",
              " ('tuffle', 'NN'),\n",
              " ('scambled', 'VBD'),\n",
              " ('egg', 'NN'),\n",
              " ('vegetable', 'JJ'),\n",
              " ('skillet', 'NN'),\n",
              " ('tasty', 'JJ'),\n",
              " ('delicious', 'JJ'),\n",
              " ('.', '.'),\n",
              " ('came', 'VBD'),\n",
              " ('2', 'CD'),\n",
              " ('piece', 'NN'),\n",
              " ('thei', 'NN'),\n",
              " ('giddled', 'VBD'),\n",
              " ('bead', 'JJ'),\n",
              " ('amazing', 'NN'),\n",
              " ('absolutely', 'RB'),\n",
              " ('made', 'VBD'),\n",
              " ('meal', 'JJ'),\n",
              " ('complete', 'JJ'),\n",
              " ('.', '.'),\n",
              " ('best', 'JJS'),\n",
              " ('``', '``'),\n",
              " ('toast', 'JJ'),\n",
              " ('``', '``'),\n",
              " (\"'ve\", 'VBP'),\n",
              " ('eve', 'VBN'),\n",
              " ('.', '.'),\n",
              " ('Anyway', 'NNP'),\n",
              " (',', ','),\n",
              " ('ca', 'MD'),\n",
              " (\"n't\", 'RB'),\n",
              " ('wait', 'VB'),\n",
              " ('go', 'VB'),\n",
              " ('back', 'RB'),\n",
              " ('!', '.')]"
            ]
          },
          "metadata": {},
          "execution_count": 29
        }
      ]
    },
    {
      "cell_type": "code",
      "source": [
        "nltk.download('averaged_perceptron_tagger_eng')"
      ],
      "metadata": {
        "colab": {
          "base_uri": "https://localhost:8080/"
        },
        "id": "4CF4EGTqWizv",
        "outputId": "d9bada2f-5eb4-4caa-fb61-4b5f1978ffee"
      },
      "id": "4CF4EGTqWizv",
      "execution_count": null,
      "outputs": [
        {
          "output_type": "stream",
          "name": "stderr",
          "text": [
            "[nltk_data] Downloading package averaged_perceptron_tagger_eng to\n",
            "[nltk_data]     /root/nltk_data...\n",
            "[nltk_data]   Package averaged_perceptron_tagger_eng is already up-to-\n",
            "[nltk_data]       date!\n"
          ]
        },
        {
          "output_type": "execute_result",
          "data": {
            "text/plain": [
              "True"
            ]
          },
          "metadata": {},
          "execution_count": 17
        }
      ]
    },
    {
      "cell_type": "code",
      "source": [
        "sentence = \"I love Python programming\"\n",
        "words = nltk.word_tokenize(sentence)\n",
        "pos_tags = nltk.pos_tag(words)\n",
        "\n",
        "print(pos_tags)\n"
      ],
      "metadata": {
        "colab": {
          "base_uri": "https://localhost:8080/"
        },
        "id": "TBwcsOFkVQ-C",
        "outputId": "fc65d768-e251-4d1a-c97a-23015adb1471"
      },
      "id": "TBwcsOFkVQ-C",
      "execution_count": null,
      "outputs": [
        {
          "output_type": "stream",
          "name": "stdout",
          "text": [
            "[('I', 'PRP'), ('love', 'VBP'), ('Python', 'NNP'), ('programming', 'NN')]\n"
          ]
        }
      ]
    },
    {
      "cell_type": "code",
      "execution_count": null,
      "id": "13c8b764",
      "metadata": {
        "id": "13c8b764"
      },
      "outputs": [],
      "source": [
        "import spacy"
      ]
    },
    {
      "cell_type": "code",
      "source": [
        "nlp=spacy.load('en_core_web_sm')\n",
        "doc=nlp(\"bruuhh i know about you ..just shutup \")\n",
        "for token in doc:\n",
        "  print(token,\"|\",token.lemma_)"
      ],
      "metadata": {
        "colab": {
          "base_uri": "https://localhost:8080/"
        },
        "id": "BVriMzogVbjU",
        "outputId": "4342f5a1-f602-496c-fc92-9ed650351b1f"
      },
      "id": "BVriMzogVbjU",
      "execution_count": null,
      "outputs": [
        {
          "output_type": "stream",
          "name": "stdout",
          "text": [
            "bruuhh | bruuhh\n",
            "i | I\n",
            "know | know\n",
            "about | about\n",
            "you | you\n",
            ".. | ..\n",
            "just | just\n",
            "shutup | shutup\n"
          ]
        }
      ]
    },
    {
      "cell_type": "code",
      "source": [
        "nlp.pipe_names"
      ],
      "metadata": {
        "colab": {
          "base_uri": "https://localhost:8080/"
        },
        "id": "dQKSvYKhVkTZ",
        "outputId": "ee10561b-b54d-42d5-8db9-d916dc7e1555"
      },
      "id": "dQKSvYKhVkTZ",
      "execution_count": null,
      "outputs": [
        {
          "output_type": "execute_result",
          "data": {
            "text/plain": [
              "['tok2vec', 'tagger', 'parser', 'attribute_ruler', 'lemmatizer', 'ner']"
            ]
          },
          "metadata": {},
          "execution_count": 53
        }
      ]
    },
    {
      "cell_type": "code",
      "source": [
        "ar=nlp.get_pipe('attribute_ruler')\n",
        "ar.add([[{\"TEXT\":\"Bro\"}],[{\"TEXT\":\"Bruh\"}]],{\"LEMMA\":\"Brother\"})"
      ],
      "metadata": {
        "id": "L11QVqwUWcog"
      },
      "id": "L11QVqwUWcog",
      "execution_count": null,
      "outputs": []
    },
    {
      "cell_type": "code",
      "source": [
        "from sklearn.feature_extraction.text import CountVectorizer"
      ],
      "metadata": {
        "id": "q_q1i8alWhRy"
      },
      "id": "q_q1i8alWhRy",
      "execution_count": null,
      "outputs": []
    },
    {
      "cell_type": "code",
      "source": [
        "bow=CountVectorizer()\n",
        "text=\"i love my email so much that i fall in love\"\n",
        "sparse=bow.fit_transform([text])\n",
        "print(sparse)"
      ],
      "metadata": {
        "id": "I5S1gqcjYne2",
        "colab": {
          "base_uri": "https://localhost:8080/"
        },
        "outputId": "ec0b6b03-9ca4-4f4e-f83d-f0b15c212f33"
      },
      "id": "I5S1gqcjYne2",
      "execution_count": null,
      "outputs": [
        {
          "output_type": "stream",
          "name": "stdout",
          "text": [
            "<Compressed Sparse Row sparse matrix of dtype 'int64'\n",
            "\twith 8 stored elements and shape (1, 8)>\n",
            "  Coords\tValues\n",
            "  (0, 3)\t2\n",
            "  (0, 5)\t1\n",
            "  (0, 0)\t1\n",
            "  (0, 6)\t1\n",
            "  (0, 4)\t1\n",
            "  (0, 7)\t1\n",
            "  (0, 1)\t1\n",
            "  (0, 2)\t1\n"
          ]
        }
      ]
    },
    {
      "cell_type": "code",
      "source": [
        "print(bow.get_feature_names_out())"
      ],
      "metadata": {
        "colab": {
          "base_uri": "https://localhost:8080/"
        },
        "id": "0Axe8-6r6eTh",
        "outputId": "ae90bd33-6e77-4d4c-8f55-a7bb49cb41b6"
      },
      "id": "0Axe8-6r6eTh",
      "execution_count": null,
      "outputs": [
        {
          "output_type": "stream",
          "name": "stdout",
          "text": [
            "['email' 'fall' 'in' 'love' 'much' 'my' 'so' 'that']\n"
          ]
        }
      ]
    },
    {
      "cell_type": "code",
      "source": [
        "!pip install nltk\n",
        "import nltk\n",
        "nltk.download('punkt_tab')\n",
        "nltk.download('averaged_perceptron_tagger_eng')"
      ],
      "metadata": {
        "colab": {
          "base_uri": "https://localhost:8080/"
        },
        "id": "9eCQeiuR_74M",
        "outputId": "f28fdc23-bc25-436f-b7fa-b37b5ec0be61"
      },
      "id": "9eCQeiuR_74M",
      "execution_count": null,
      "outputs": [
        {
          "output_type": "stream",
          "name": "stdout",
          "text": [
            "Requirement already satisfied: nltk in /usr/local/lib/python3.11/dist-packages (3.9.1)\n",
            "Requirement already satisfied: click in /usr/local/lib/python3.11/dist-packages (from nltk) (8.1.8)\n",
            "Requirement already satisfied: joblib in /usr/local/lib/python3.11/dist-packages (from nltk) (1.4.2)\n",
            "Requirement already satisfied: regex>=2021.8.3 in /usr/local/lib/python3.11/dist-packages (from nltk) (2024.11.6)\n",
            "Requirement already satisfied: tqdm in /usr/local/lib/python3.11/dist-packages (from nltk) (4.67.1)\n"
          ]
        },
        {
          "output_type": "stream",
          "name": "stderr",
          "text": [
            "[nltk_data] Downloading package punkt_tab to /root/nltk_data...\n",
            "[nltk_data]   Package punkt_tab is already up-to-date!\n",
            "[nltk_data] Downloading package averaged_perceptron_tagger_eng to\n",
            "[nltk_data]     /root/nltk_data...\n",
            "[nltk_data]   Unzipping taggers/averaged_perceptron_tagger_eng.zip.\n"
          ]
        },
        {
          "output_type": "execute_result",
          "data": {
            "text/plain": [
              "True"
            ]
          },
          "metadata": {},
          "execution_count": 17
        }
      ]
    },
    {
      "cell_type": "code",
      "source": [
        "from nltk import pos_tag\n",
        "from nltk.tokenize import word_tokenize\n",
        "\n",
        "tes='i love this dessert very much'\n",
        "spa=pos_tag(word_tokenize(tes))\n",
        "print(spa)"
      ],
      "metadata": {
        "colab": {
          "base_uri": "https://localhost:8080/"
        },
        "id": "EGPD4xJv85I2",
        "outputId": "2429a686-3de7-453f-830b-607752acfaa3"
      },
      "id": "EGPD4xJv85I2",
      "execution_count": null,
      "outputs": [
        {
          "output_type": "stream",
          "name": "stdout",
          "text": [
            "[('i', 'RB'), ('love', 'VBP'), ('this', 'DT'), ('dessert', 'JJ'), ('very', 'RB'), ('much', 'JJ')]\n"
          ]
        }
      ]
    },
    {
      "cell_type": "code",
      "source": [
        "nltk.download('words')\n",
        "nltk.download('maxent_ne_chunker')\n",
        "nltk.download('punkt')\n",
        "nltk.download('maxent_ne_chunker_tab')"
      ],
      "metadata": {
        "colab": {
          "base_uri": "https://localhost:8080/"
        },
        "id": "VU4xOJdg_IzD",
        "outputId": "a212cec6-6c8a-4955-b2b4-cea160dd2010"
      },
      "id": "VU4xOJdg_IzD",
      "execution_count": null,
      "outputs": [
        {
          "output_type": "stream",
          "name": "stderr",
          "text": [
            "[nltk_data] Downloading package words to /root/nltk_data...\n",
            "[nltk_data]   Package words is already up-to-date!\n",
            "[nltk_data] Downloading package maxent_ne_chunker to\n",
            "[nltk_data]     /root/nltk_data...\n",
            "[nltk_data]   Package maxent_ne_chunker is already up-to-date!\n",
            "[nltk_data] Downloading package punkt to /root/nltk_data...\n",
            "[nltk_data]   Package punkt is already up-to-date!\n",
            "[nltk_data] Downloading package maxent_ne_chunker_tab to\n",
            "[nltk_data]     /root/nltk_data...\n",
            "[nltk_data]   Unzipping chunkers/maxent_ne_chunker_tab.zip.\n"
          ]
        },
        {
          "output_type": "execute_result",
          "data": {
            "text/plain": [
              "True"
            ]
          },
          "metadata": {},
          "execution_count": 23
        }
      ]
    },
    {
      "cell_type": "code",
      "source": [
        "tes='''Albert Einstein[a] (14 March 1879 – 18 April 1955) was a German-born theoretical physicist who is best known for developing the theory of relativity.\n",
        " Einstein also made important contributions to quantum mechanics.[1][5] His mass–energy equivalence formula E = mc2, which arises from special relativity,\n",
        "  has been called \"the world's most famous equation\".[6] He received the 1921 Nobel Prize in Physics for his services to theoretical physics,\n",
        "  and especially for his discovery of the law of the photoelectric effect.[7]'''"
      ],
      "metadata": {
        "id": "fdzy3fxXFfGp"
      },
      "id": "fdzy3fxXFfGp",
      "execution_count": null,
      "outputs": []
    },
    {
      "cell_type": "code",
      "source": [
        "from nltk import ne_chunk\n",
        "wor=word_tokenize(tes)\n",
        "pos=pos_tag(wor)\n",
        "spa=ne_chunk(pos)\n",
        "print(spa)"
      ],
      "metadata": {
        "colab": {
          "base_uri": "https://localhost:8080/"
        },
        "id": "-x0UmCZiF9ny",
        "outputId": "c38a930d-64b0-459d-c0bb-d1a187bd8781"
      },
      "id": "-x0UmCZiF9ny",
      "execution_count": null,
      "outputs": [
        {
          "output_type": "stream",
          "name": "stdout",
          "text": [
            "(S\n",
            "  (PERSON Albert/NNP)\n",
            "  (ORGANIZATION Einstein/NNP)\n",
            "  [/VBZ\n",
            "  a/DT\n",
            "  ]/NN\n",
            "  (/(\n",
            "  14/CD\n",
            "  March/NNP\n",
            "  1879/CD\n",
            "  –/NNP\n",
            "  18/CD\n",
            "  April/NNP\n",
            "  1955/CD\n",
            "  )/)\n",
            "  was/VBD\n",
            "  a/DT\n",
            "  German-born/JJ\n",
            "  theoretical/JJ\n",
            "  physicist/NN\n",
            "  who/WP\n",
            "  is/VBZ\n",
            "  best/RBS\n",
            "  known/VBN\n",
            "  for/IN\n",
            "  developing/VBG\n",
            "  the/DT\n",
            "  theory/NN\n",
            "  of/IN\n",
            "  relativity/NN\n",
            "  ./.\n",
            "  (PERSON Einstein/NNP)\n",
            "  also/RB\n",
            "  made/VBD\n",
            "  important/JJ\n",
            "  contributions/NNS\n",
            "  to/TO\n",
            "  quantum/VB\n",
            "  mechanics/NNS\n",
            "  ./.\n",
            "  [/$\n",
            "  1/CD\n",
            "  ]/NNP\n",
            "  [/VBD\n",
            "  5/CD\n",
            "  ]/IN\n",
            "  His/PRP$\n",
            "  mass–energy/NN\n",
            "  equivalence/NN\n",
            "  formula/NN\n",
            "  E/NNP\n",
            "  =/NNP\n",
            "  mc2/NN\n",
            "  ,/,\n",
            "  which/WDT\n",
            "  arises/VBZ\n",
            "  from/IN\n",
            "  special/JJ\n",
            "  relativity/NN\n",
            "  ,/,\n",
            "  has/VBZ\n",
            "  been/VBN\n",
            "  called/VBN\n",
            "  ``/``\n",
            "  the/DT\n",
            "  world/NN\n",
            "  's/POS\n",
            "  most/RBS\n",
            "  famous/JJ\n",
            "  equation/NN\n",
            "  ''/''\n",
            "  ./.\n",
            "  [/VB\n",
            "  6/CD\n",
            "  ]/NN\n",
            "  He/PRP\n",
            "  received/VBD\n",
            "  the/DT\n",
            "  1921/CD\n",
            "  Nobel/NNP\n",
            "  Prize/NNP\n",
            "  in/IN\n",
            "  (GPE Physics/NNP)\n",
            "  for/IN\n",
            "  his/PRP$\n",
            "  services/NNS\n",
            "  to/TO\n",
            "  theoretical/JJ\n",
            "  physics/NNS\n",
            "  ,/,\n",
            "  and/CC\n",
            "  especially/RB\n",
            "  for/IN\n",
            "  his/PRP$\n",
            "  discovery/NN\n",
            "  of/IN\n",
            "  the/DT\n",
            "  law/NN\n",
            "  of/IN\n",
            "  the/DT\n",
            "  photoelectric/JJ\n",
            "  effect/NN\n",
            "  ./.\n",
            "  [/CC\n",
            "  7/CD\n",
            "  ]/NN)\n"
          ]
        }
      ]
    },
    {
      "cell_type": "code",
      "source": [
        "nltk.ne_chunk(pos).draw()"
      ],
      "metadata": {
        "colab": {
          "base_uri": "https://localhost:8080/",
          "height": 287
        },
        "id": "BXvX2GSdGT-w",
        "outputId": "87035da4-eb10-4a70-b04d-fcd69121c26b"
      },
      "id": "BXvX2GSdGT-w",
      "execution_count": null,
      "outputs": [
        {
          "output_type": "error",
          "ename": "TclError",
          "evalue": "no display name and no $DISPLAY environment variable",
          "traceback": [
            "\u001b[0;31m---------------------------------------------------------------------------\u001b[0m",
            "\u001b[0;31mTclError\u001b[0m                                  Traceback (most recent call last)",
            "\u001b[0;32m<ipython-input-25-4a27a0a2f581>\u001b[0m in \u001b[0;36m<cell line: 0>\u001b[0;34m()\u001b[0m\n\u001b[0;32m----> 1\u001b[0;31m \u001b[0mnltk\u001b[0m\u001b[0;34m.\u001b[0m\u001b[0mne_chunk\u001b[0m\u001b[0;34m(\u001b[0m\u001b[0mpos\u001b[0m\u001b[0;34m)\u001b[0m\u001b[0;34m.\u001b[0m\u001b[0mdraw\u001b[0m\u001b[0;34m(\u001b[0m\u001b[0;34m)\u001b[0m\u001b[0;34m\u001b[0m\u001b[0;34m\u001b[0m\u001b[0m\n\u001b[0m",
            "\u001b[0;32m/usr/local/lib/python3.11/dist-packages/nltk/tree/tree.py\u001b[0m in \u001b[0;36mdraw\u001b[0;34m(self)\u001b[0m\n\u001b[1;32m    759\u001b[0m         \u001b[0;32mfrom\u001b[0m \u001b[0mnltk\u001b[0m\u001b[0;34m.\u001b[0m\u001b[0mdraw\u001b[0m\u001b[0;34m.\u001b[0m\u001b[0mtree\u001b[0m \u001b[0;32mimport\u001b[0m \u001b[0mdraw_trees\u001b[0m\u001b[0;34m\u001b[0m\u001b[0;34m\u001b[0m\u001b[0m\n\u001b[1;32m    760\u001b[0m \u001b[0;34m\u001b[0m\u001b[0m\n\u001b[0;32m--> 761\u001b[0;31m         \u001b[0mdraw_trees\u001b[0m\u001b[0;34m(\u001b[0m\u001b[0mself\u001b[0m\u001b[0;34m)\u001b[0m\u001b[0;34m\u001b[0m\u001b[0;34m\u001b[0m\u001b[0m\n\u001b[0m\u001b[1;32m    762\u001b[0m \u001b[0;34m\u001b[0m\u001b[0m\n\u001b[1;32m    763\u001b[0m     \u001b[0;32mdef\u001b[0m \u001b[0mpretty_print\u001b[0m\u001b[0;34m(\u001b[0m\u001b[0mself\u001b[0m\u001b[0;34m,\u001b[0m \u001b[0msentence\u001b[0m\u001b[0;34m=\u001b[0m\u001b[0;32mNone\u001b[0m\u001b[0;34m,\u001b[0m \u001b[0mhighlight\u001b[0m\u001b[0;34m=\u001b[0m\u001b[0;34m(\u001b[0m\u001b[0;34m)\u001b[0m\u001b[0;34m,\u001b[0m \u001b[0mstream\u001b[0m\u001b[0;34m=\u001b[0m\u001b[0;32mNone\u001b[0m\u001b[0;34m,\u001b[0m \u001b[0;34m**\u001b[0m\u001b[0mkwargs\u001b[0m\u001b[0;34m)\u001b[0m\u001b[0;34m:\u001b[0m\u001b[0;34m\u001b[0m\u001b[0;34m\u001b[0m\u001b[0m\n",
            "\u001b[0;32m/usr/local/lib/python3.11/dist-packages/nltk/draw/tree.py\u001b[0m in \u001b[0;36mdraw_trees\u001b[0;34m(*trees)\u001b[0m\n\u001b[1;32m   1006\u001b[0m     \u001b[0;34m:\u001b[0m\u001b[0mrtype\u001b[0m\u001b[0;34m:\u001b[0m \u001b[0;32mNone\u001b[0m\u001b[0;34m\u001b[0m\u001b[0;34m\u001b[0m\u001b[0m\n\u001b[1;32m   1007\u001b[0m     \"\"\"\n\u001b[0;32m-> 1008\u001b[0;31m     \u001b[0mTreeView\u001b[0m\u001b[0;34m(\u001b[0m\u001b[0;34m*\u001b[0m\u001b[0mtrees\u001b[0m\u001b[0;34m)\u001b[0m\u001b[0;34m.\u001b[0m\u001b[0mmainloop\u001b[0m\u001b[0;34m(\u001b[0m\u001b[0;34m)\u001b[0m\u001b[0;34m\u001b[0m\u001b[0;34m\u001b[0m\u001b[0m\n\u001b[0m\u001b[1;32m   1009\u001b[0m     \u001b[0;32mreturn\u001b[0m\u001b[0;34m\u001b[0m\u001b[0;34m\u001b[0m\u001b[0m\n\u001b[1;32m   1010\u001b[0m \u001b[0;34m\u001b[0m\u001b[0m\n",
            "\u001b[0;32m/usr/local/lib/python3.11/dist-packages/nltk/draw/tree.py\u001b[0m in \u001b[0;36m__init__\u001b[0;34m(self, *trees)\u001b[0m\n\u001b[1;32m    857\u001b[0m         \u001b[0mself\u001b[0m\u001b[0;34m.\u001b[0m\u001b[0m_trees\u001b[0m \u001b[0;34m=\u001b[0m \u001b[0mtrees\u001b[0m\u001b[0;34m\u001b[0m\u001b[0;34m\u001b[0m\u001b[0m\n\u001b[1;32m    858\u001b[0m \u001b[0;34m\u001b[0m\u001b[0m\n\u001b[0;32m--> 859\u001b[0;31m         \u001b[0mself\u001b[0m\u001b[0;34m.\u001b[0m\u001b[0m_top\u001b[0m \u001b[0;34m=\u001b[0m \u001b[0mTk\u001b[0m\u001b[0;34m(\u001b[0m\u001b[0;34m)\u001b[0m\u001b[0;34m\u001b[0m\u001b[0;34m\u001b[0m\u001b[0m\n\u001b[0m\u001b[1;32m    860\u001b[0m         \u001b[0mself\u001b[0m\u001b[0;34m.\u001b[0m\u001b[0m_top\u001b[0m\u001b[0;34m.\u001b[0m\u001b[0mtitle\u001b[0m\u001b[0;34m(\u001b[0m\u001b[0;34m\"NLTK\"\u001b[0m\u001b[0;34m)\u001b[0m\u001b[0;34m\u001b[0m\u001b[0;34m\u001b[0m\u001b[0m\n\u001b[1;32m    861\u001b[0m         \u001b[0mself\u001b[0m\u001b[0;34m.\u001b[0m\u001b[0m_top\u001b[0m\u001b[0;34m.\u001b[0m\u001b[0mbind\u001b[0m\u001b[0;34m(\u001b[0m\u001b[0;34m\"<Control-x>\"\u001b[0m\u001b[0;34m,\u001b[0m \u001b[0mself\u001b[0m\u001b[0;34m.\u001b[0m\u001b[0mdestroy\u001b[0m\u001b[0;34m)\u001b[0m\u001b[0;34m\u001b[0m\u001b[0;34m\u001b[0m\u001b[0m\n",
            "\u001b[0;32m/usr/lib/python3.11/tkinter/__init__.py\u001b[0m in \u001b[0;36m__init__\u001b[0;34m(self, screenName, baseName, className, useTk, sync, use)\u001b[0m\n\u001b[1;32m   2324\u001b[0m                 \u001b[0mbaseName\u001b[0m \u001b[0;34m=\u001b[0m \u001b[0mbaseName\u001b[0m \u001b[0;34m+\u001b[0m \u001b[0mext\u001b[0m\u001b[0;34m\u001b[0m\u001b[0;34m\u001b[0m\u001b[0m\n\u001b[1;32m   2325\u001b[0m         \u001b[0minteractive\u001b[0m \u001b[0;34m=\u001b[0m \u001b[0;32mFalse\u001b[0m\u001b[0;34m\u001b[0m\u001b[0;34m\u001b[0m\u001b[0m\n\u001b[0;32m-> 2326\u001b[0;31m         \u001b[0mself\u001b[0m\u001b[0;34m.\u001b[0m\u001b[0mtk\u001b[0m \u001b[0;34m=\u001b[0m \u001b[0m_tkinter\u001b[0m\u001b[0;34m.\u001b[0m\u001b[0mcreate\u001b[0m\u001b[0;34m(\u001b[0m\u001b[0mscreenName\u001b[0m\u001b[0;34m,\u001b[0m \u001b[0mbaseName\u001b[0m\u001b[0;34m,\u001b[0m \u001b[0mclassName\u001b[0m\u001b[0;34m,\u001b[0m \u001b[0minteractive\u001b[0m\u001b[0;34m,\u001b[0m \u001b[0mwantobjects\u001b[0m\u001b[0;34m,\u001b[0m \u001b[0museTk\u001b[0m\u001b[0;34m,\u001b[0m \u001b[0msync\u001b[0m\u001b[0;34m,\u001b[0m \u001b[0muse\u001b[0m\u001b[0;34m)\u001b[0m\u001b[0;34m\u001b[0m\u001b[0;34m\u001b[0m\u001b[0m\n\u001b[0m\u001b[1;32m   2327\u001b[0m         \u001b[0;32mif\u001b[0m \u001b[0museTk\u001b[0m\u001b[0;34m:\u001b[0m\u001b[0;34m\u001b[0m\u001b[0;34m\u001b[0m\u001b[0m\n\u001b[1;32m   2328\u001b[0m             \u001b[0mself\u001b[0m\u001b[0;34m.\u001b[0m\u001b[0m_loadtk\u001b[0m\u001b[0;34m(\u001b[0m\u001b[0;34m)\u001b[0m\u001b[0;34m\u001b[0m\u001b[0;34m\u001b[0m\u001b[0m\n",
            "\u001b[0;31mTclError\u001b[0m: no display name and no $DISPLAY environment variable"
          ]
        }
      ]
    },
    {
      "cell_type": "code",
      "source": [],
      "metadata": {
        "id": "msh3VCQtHsEg"
      },
      "id": "msh3VCQtHsEg",
      "execution_count": null,
      "outputs": []
    }
  ],
  "metadata": {
    "kernelspec": {
      "display_name": "base",
      "language": "python",
      "name": "python3"
    },
    "language_info": {
      "codemirror_mode": {
        "name": "ipython",
        "version": 3
      },
      "file_extension": ".py",
      "mimetype": "text/x-python",
      "name": "python",
      "nbconvert_exporter": "python",
      "pygments_lexer": "ipython3",
      "version": "3.12.7"
    },
    "colab": {
      "provenance": []
    }
  },
  "nbformat": 4,
  "nbformat_minor": 5
}